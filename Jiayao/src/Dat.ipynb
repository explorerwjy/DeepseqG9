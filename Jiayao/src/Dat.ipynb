{
 "cells": [
  {
   "cell_type": "code",
   "execution_count": 1,
   "metadata": {
    "collapsed": false
   },
   "outputs": [],
   "source": [
    "%load_ext autoreload\n",
    "%autoreload 2\n",
    "import matplotlib as mpl\n",
    "import matplotlib.pyplot as plt\n",
    "from DeepSeqG9 import *\n",
    "import numpy as np"
   ]
  },
  {
   "cell_type": "code",
   "execution_count": 159,
   "metadata": {
    "collapsed": true
   },
   "outputs": [],
   "source": [
    "hgmd = \"../dat/hgmd/hgmd.std.csv\"\n",
    "cancer = \"../dat/hotspot/cancer_hotspot.std.csv\"\n",
    "clinvar = \"../dat/clinvar/clinvar.std.csv\"\n",
    "pr_coding_genes = \"/Users/jiayao/Work/Resources/protein-coding_gene.txt\""
   ]
  },
  {
   "cell_type": "code",
   "execution_count": 160,
   "metadata": {
    "collapsed": false
   },
   "outputs": [],
   "source": [
    "ins.mergeTable(pr_coding_genes,  hgmd, clinvar, cancer, AF=1e-4)"
   ]
  },
  {
   "cell_type": "code",
   "execution_count": 161,
   "metadata": {
    "collapsed": false
   },
   "outputs": [
    {
     "name": "stdout",
     "output_type": "stream",
     "text": [
      "2667\n"
     ]
    }
   ],
   "source": [
    "gnomad = \"\"\n",
    "ins.MakeBenighVars(gnomad, \"hgmd_clinvar_cancer_combined_pathogenic_variants.tsv\")"
   ]
  },
  {
   "cell_type": "code",
   "execution_count": null,
   "metadata": {
    "collapsed": false
   },
   "outputs": [
    {
     "name": "stdout",
     "output_type": "stream",
     "text": [
      "['genename' 'assembly' 'chr' 'pos' 'ref' 'alt' 'ref_aa' 'alt_aa'\n",
      " 'swissprot_pos' 'ensp' 'swissprot' 'dbsnp' 'source' 'source_id' 'target'\n",
      " 'descr' 'var_id' 'swissprot_var_id' 'af']\n"
     ]
    }
   ],
   "source": [
    "df = pd.read_csv(hgmd, sep = \"\\t\")\n",
    "print df.columns.values"
   ]
  },
  {
   "cell_type": "code",
   "execution_count": null,
   "metadata": {
    "collapsed": false
   },
   "outputs": [],
   "source": [
    "dat = []\n",
    "genes = []\n",
    "for k,v in res.items():\n",
    "    #print k, len(v)\n",
    "    genes.append(k)\n",
    "    dat.append(len(v))\n",
    "genes.sort()"
   ]
  },
  {
   "cell_type": "code",
   "execution_count": null,
   "metadata": {
    "collapsed": false
   },
   "outputs": [],
   "source": [
    "mpl.pyplot.hist(dat, bins = 200)\n",
    "plt.xlim(0,200)\n",
    "plt.show()\n",
    "print len([x for x in dat if x >10])\n",
    "print len([x for x in dat if x >20])"
   ]
  },
  {
   "cell_type": "code",
   "execution_count": null,
   "metadata": {
    "collapsed": true
   },
   "outputs": [],
   "source": [
    "gnomad_file = \"/Users/jiayao/Work/DeepSeq/dat/gnomAD/test.vcf.gz\"\n",
    "#gnomad_file = \"/Users/jiayao/Work/DeepSeq/dat/gnomAD/haha.vcf.gz\""
   ]
  },
  {
   "cell_type": "code",
   "execution_count": 7,
   "metadata": {
    "collapsed": false
   },
   "outputs": [
    {
     "name": "stdout",
     "output_type": "stream",
     "text": [
      "[(0, 'genename'), (1, 'assembly'), (2, 'chr'), (3, 'pos'), (4, 'ref'), (5, 'alt'), (6, 'ref_aa'), (7, 'alt_aa'), (8, 'swissprot_pos'), (9, 'ensp'), (10, 'swissprot'), (11, 'dbsnp'), (12, 'source'), (13, 'source_id'), (14, 'target'), (15, 'descr'), (16, 'var_id'), (17, 'swissprot_var_id'), (18, 'af')]\n",
      "['Allele', 'Consequence', 'IMPACT', 'SYMBOL', 'Gene', 'Feature_type', 'Feature', 'BIOTYPE', 'EXON', 'INTRON', 'HGVSc', 'HGVSp', 'cDNA_position', 'CDS_position', 'Protein_position', 'Amino_acids', 'Codons', 'Existing_variation', 'ALLELE_NUM', 'DISTANCE', 'STRAND', 'FLAGS', 'VARIANT_CLASS', 'MINIMISED', 'SYMBOL_SOURCE', 'HGNC_ID', 'CANONICAL', 'TSL', 'APPRIS', 'CCDS', 'ENSP', 'SWISSPROT', 'TREMBL', 'UNIPARC', 'GENE_PHENO', 'SIFT', 'PolyPhen', 'DOMAINS', 'HGVS_OFFSET', 'GMAF', 'AFR_MAF', 'AMR_MAF', 'EAS_MAF', 'EUR_MAF', 'SAS_MAF', 'AA_MAF', 'EA_MAF', 'ExAC_MAF', 'ExAC_Adj_MAF', 'ExAC_AFR_MAF', 'ExAC_AMR_MAF', 'ExAC_EAS_MAF', 'ExAC_FIN_MAF', 'ExAC_NFE_MAF', 'ExAC_OTH_MAF', 'ExAC_SAS_MAF', 'CLIN_SIG', 'SOMATIC', 'PHENO', 'PUBMED', 'MOTIF_NAME', 'MOTIF_POS', 'HIGH_INF_POS', 'MOTIF_SCORE_CHANGE', 'LoF', 'LoF_filter', 'LoF_flags', 'LoF_info']\n"
     ]
    }
   ],
   "source": [
    "head = ['genename', 'assembly', 'chr', 'pos', 'ref', 'alt', 'ref_aa', 'alt_aa', 'swissprot_pos', 'ensp', 'swissprot', \n",
    "        'dbsnp', 'source', 'source_id', 'target', 'descr', 'var_id', 'swissprot_var_id', 'af']\n",
    "print zip(range(19), head)\n",
    "\n",
    "CSQ_FMT = 'Allele|Consequence|IMPACT|SYMBOL|Gene|Feature_type|Feature|BIOTYPE|EXON|INTRON|HGVSc|HGVSp|cDNA_position|CDS_position|Protein_position|Amino_acids|Codons|Existing_variation|ALLELE_NUM|DISTANCE|STRAND|FLAGS|VARIANT_CLASS|MINIMISED|SYMBOL_SOURCE|HGNC_ID|CANONICAL|TSL|APPRIS|CCDS|ENSP|SWISSPROT|TREMBL|UNIPARC|GENE_PHENO|SIFT|PolyPhen|DOMAINS|HGVS_OFFSET|GMAF|AFR_MAF|AMR_MAF|EAS_MAF|EUR_MAF|SAS_MAF|AA_MAF|EA_MAF|ExAC_MAF|ExAC_Adj_MAF|ExAC_AFR_MAF|ExAC_AMR_MAF|ExAC_EAS_MAF|ExAC_FIN_MAF|ExAC_NFE_MAF|ExAC_OTH_MAF|ExAC_SAS_MAF|CLIN_SIG|SOMATIC|PHENO|PUBMED|MOTIF_NAME|MOTIF_POS|HIGH_INF_POS|MOTIF_SCORE_CHANGE|LoF|LoF_filter|LoF_flags|LoF_info'\n",
    "CSQ_FMT = CSQ_FMT.split(\"|\")\n",
    "print CSQ_FMT\n",
    "def getINFO(info_string):\n",
    "    infolist = info_string.split(';')\n",
    "    infodict = {}\n",
    "    for kv in infolist:\n",
    "        kv = kv.split('=')\n",
    "        if len(kv) == 2:\n",
    "            k, v = kv\n",
    "            if k in infodict:\n",
    "                infodict[k].append(v) \n",
    "            else:\n",
    "                infodict[k] = [v]\n",
    "    return infodict\n",
    "def searchCANONICAL(CSQLIST):\n",
    "    for csq in CSQLIST:\n",
    "        csq = csq.split(\"|\")\n",
    "        CSQ = dict(zip(CSQ_FMT, csq))\n",
    "        if CSQ[\"CANONICAL\"] == \"YES\":\n",
    "            #return csq\n",
    "            return \"YES\"\n",
    "    return None\n",
    "def displayCSQ(head, _dict):\n",
    "    for item in head:\n",
    "        print \"{}:{}\\t\".format(item, _dict[item]),"
   ]
  },
  {
   "cell_type": "code",
   "execution_count": null,
   "metadata": {
    "collapsed": false
   },
   "outputs": [],
   "source": [
    "hand = gzip.open(gnomad_file, 'rb')\n",
    "outfil = csv.writer(open(\"benigh.tsv\", 'wb'), delimiter=\"\\t\")\n",
    "outfil.writerow(head)\n",
    "for l in hand:\n",
    "    if l.startswith(\"#\"):\n",
    "        continue\n",
    "    llist = l.strip().split(\"\\t\")\n",
    "    Chr, Pos, ID, ref, alt = llist[0:5]\n",
    "    if len(ref) != 1:\n",
    "        continue\n",
    "    INFO_string = llist[7]\n",
    "    info_dict = getINFO(INFO_string)\n",
    "    #print info_dict\n",
    "    #CSQ = searchCANONICAL(info_dict[\"CSQ\"])\n",
    "    CSQ = info_dict[\"CSQ\"][0].split(\"|\")\n",
    "    CSQ = dict(zip(CSQ_FMT, CSQ))\n",
    "    if CSQ[\"Consequence\"] != \"missense_variant\":\n",
    "        continue\n",
    "    AA = CSQ[\"Amino_acids\"].split(\"/\")\n",
    "    res = [\"\"]*19\n",
    "    res[0] = info_dict[\"Gene.refGene\"][0]\n",
    "    res[1] = 'b37'\n",
    "    res[2] = Chr\n",
    "    res[3] = Pos\n",
    "    res[4] = ref\n",
    "    res[5] = alt.split(\",\")[0]\n",
    "    res[6] = AA[0]\n",
    "    res[7] = AA[1]\n",
    "    res[8] = CSQ[\"Protein_position\"]\n",
    "    res[9] = CSQ[\"ENSP\"]\n",
    "    res[10] = CSQ[\"SWISSPROT\"]\n",
    "    res[11] = info_dict[\"avsnp147\"][0]\n",
    "    res[12] = \"gnomAD_exome\"\n",
    "    res[13] = \"-\"\n",
    "    res[14] = \"-\"\n",
    "    res[15] = \"-\"\n",
    "    res[16] = \"{}_{}_{}_{}\".format(Chr,Pos,ref,res[5])\n",
    "    res[17] = \"{}_{}_{}_{}\".format(res[10],res[8],res[6],res[7])\n",
    "    res[18] = info_dict[\"gnomAD_exome_ALL\"][0]\n",
    "    outfil.writerow(res)"
   ]
  },
  {
   "cell_type": "code",
   "execution_count": 2,
   "metadata": {
    "collapsed": true
   },
   "outputs": [],
   "source": [
    "f1 = \"../dat/TrainingData/benigh.tsv\"\n",
    "f2 = \"../dat/TrainingData/hgmd_clinvar_cancer_combined_pathogenic_variants.tsv\""
   ]
  },
  {
   "cell_type": "code",
   "execution_count": 3,
   "metadata": {
    "collapsed": false
   },
   "outputs": [],
   "source": [
    "reader1 = csv.reader(open(f2, 'rb'), delimiter=\"\\t\")\n",
    "header = reader1.next()\n",
    "pathvarset = []\n",
    "for row in reader1:\n",
    "    pathvarset.append(row[16])\n",
    "pathvarset = set(pathvarset)"
   ]
  },
  {
   "cell_type": "code",
   "execution_count": 8,
   "metadata": {
    "collapsed": false
   },
   "outputs": [],
   "source": [
    "reader2 = csv.reader(open(f1, 'rb'), delimiter=\"\\t\")\n",
    "header = reader2.next()\n",
    "outfil = csv.writer(open(\"benigh.clean.tsv\", 'wb'), delimiter=\"\\t\")\n",
    "outfil.writerow(head)\n",
    "for row in reader2:\n",
    "    varid = row[16]\n",
    "    if varid in pathvarset:\n",
    "        continue\n",
    "    outfil.writerow(row)\n"
   ]
  },
  {
   "cell_type": "markdown",
   "metadata": {
    "collapsed": true
   },
   "source": [
    "# Count"
   ]
  },
  {
   "cell_type": "code",
   "execution_count": 11,
   "metadata": {
    "collapsed": false
   },
   "outputs": [
    {
     "ename": "IOError",
     "evalue": "[Errno 2] No such file or directory: '../dat/data/UniProt_PDB_ID_List.txt'",
     "output_type": "error",
     "traceback": [
      "\u001b[0;31m\u001b[0m",
      "\u001b[0;31mIOError\u001b[0mTraceback (most recent call last)",
      "\u001b[0;32m<ipython-input-11-e5ee60b41e19>\u001b[0m in \u001b[0;36m<module>\u001b[0;34m()\u001b[0m\n\u001b[1;32m      1\u001b[0m \u001b[0mGene2PDB\u001b[0m \u001b[0;34m=\u001b[0m \u001b[0;34m{\u001b[0m\u001b[0;34m}\u001b[0m\u001b[0;34m\u001b[0m\u001b[0m\n\u001b[0;32m----> 2\u001b[0;31m \u001b[0;32mfor\u001b[0m \u001b[0ml\u001b[0m \u001b[0;32min\u001b[0m \u001b[0mopen\u001b[0m\u001b[0;34m(\u001b[0m\u001b[0;34m\"../dat/data/UniProt_PDB_ID_List.txt\"\u001b[0m\u001b[0;34m,\u001b[0m \u001b[0;34m'rb'\u001b[0m\u001b[0;34m)\u001b[0m\u001b[0;34m:\u001b[0m\u001b[0;34m\u001b[0m\u001b[0m\n\u001b[0m\u001b[1;32m      3\u001b[0m     \u001b[0;32mif\u001b[0m \u001b[0ml\u001b[0m\u001b[0;34m.\u001b[0m\u001b[0mstartswith\u001b[0m\u001b[0;34m(\u001b[0m\u001b[0;34m\"Entry\"\u001b[0m\u001b[0;34m)\u001b[0m\u001b[0;34m:\u001b[0m\u001b[0;34m\u001b[0m\u001b[0m\n\u001b[1;32m      4\u001b[0m         \u001b[0;32mcontinue\u001b[0m\u001b[0;34m\u001b[0m\u001b[0m\n\u001b[1;32m      5\u001b[0m     \u001b[0mllist\u001b[0m \u001b[0;34m=\u001b[0m \u001b[0ml\u001b[0m\u001b[0;34m.\u001b[0m\u001b[0mstrip\u001b[0m\u001b[0;34m(\u001b[0m\u001b[0;34m)\u001b[0m\u001b[0;34m.\u001b[0m\u001b[0msplit\u001b[0m\u001b[0;34m(\u001b[0m\u001b[0;34m)\u001b[0m\u001b[0;34m\u001b[0m\u001b[0m\n",
      "\u001b[0;31mIOError\u001b[0m: [Errno 2] No such file or directory: '../dat/data/UniProt_PDB_ID_List.txt'"
     ]
    }
   ],
   "source": [
    "Gene2PDB = {}\n",
    "for l in open(\"../dat/data/UniProt_PDB_ID_List.txt\", 'rb'):\n",
    "    if l.startswith(\"Entry\"):\n",
    "        continue\n",
    "    llist = l.strip().split()\n",
    "    if len(llist) < 3: #No PDB file\n",
    "        continue\n",
    "    if not llist[2].endswith(\";\"):\n",
    "        continue\n",
    "    Uniprot = llist[0]\n",
    "    gene = llist[1]\n",
    "    pdb = llist[2].split(\";\")[0]\n",
    "    Gene2PDB[Uniprot] = pdb"
   ]
  },
  {
   "cell_type": "code",
   "execution_count": 20,
   "metadata": {
    "collapsed": false
   },
   "outputs": [],
   "source": [
    "benigh = \"./benigh.clean.tsv\"\n",
    "patho = \"./hgmd_clinvar_cancer_combined_pathogenic_variants.tsv\""
   ]
  },
  {
   "cell_type": "code",
   "execution_count": 24,
   "metadata": {
    "collapsed": false
   },
   "outputs": [],
   "source": [
    "class Gene:\n",
    "    def __init__(self, gene, uniprot):\n",
    "        self.uniprot = uniprot\n",
    "        self.gene = gene\n",
    "        self.Bmutations = []\n",
    "        self.Pmutations = []\n",
    "genedict = {}\n",
    "P = csv.reader(open(patho, 'rb'), delimiter=\"\\t\")\n",
    "P.next()\n",
    "for row in P:\n",
    "    if len(row) != len(header):\n",
    "        continue\n",
    "    uniprot, gene, mut = row[10], row[0], row[16]\n",
    "    if gene not in genedict:\n",
    "        genedict[gene] = Gene(gene, uniprot)\n",
    "    genedict[gene].Pmutations.append(mut)\n",
    "    \n",
    "B = csv.reader(open(benigh, 'rb'), delimiter=\"\\t\")\n",
    "B.next()\n",
    "for row in B:\n",
    "    if len(row) != len(header):\n",
    "        continue\n",
    "    uniprot, gene, mut = row[10], row[0], row[16]\n",
    "    if gene not in genedict:\n",
    "        genedict[gene] = Gene(gene, uniprot)\n",
    "    genedict[gene].Bmutations.append(mut)"
   ]
  },
  {
   "cell_type": "code",
   "execution_count": 25,
   "metadata": {
    "collapsed": false
   },
   "outputs": [
    {
     "name": "stdout",
     "output_type": "stream",
     "text": [
      "0\n"
     ]
    }
   ],
   "source": [
    "Bs, Ps = [], []\n",
    "Selected = []\n",
    "for K, gene in genedict.items():\n",
    "    Bs.append(len(gene.Bmutations))\n",
    "    Ps.append(len(gene.Pmutations))\n",
    "    if len(gene.Pmutations) > 43 and len(gene.Bmutations) > 43 and gene.uniprot in Gene2PDB:\n",
    "        Selected.append(gene)\n",
    "print len(Selected)"
   ]
  },
  {
   "cell_type": "code",
   "execution_count": 26,
   "metadata": {
    "collapsed": false
   },
   "outputs": [
    {
     "data": {
      "image/png": "[encoded data removed]",
      "text/plain": [
       "<Figure size 432x288 with 1 Axes>"
      ]
     },
     "metadata": {},
     "output_type": "display_data"
    }
   ],
   "source": [
    "bbs = [float(x)/10 for x in Bs]\n",
    "pps = [x for x in Ps]\n",
    "plt.scatter(bbs, pps)\n",
    "plt.show()"
   ]
  },
  {
   "cell_type": "code",
   "execution_count": null,
   "metadata": {
    "collapsed": false
   },
   "outputs": [],
   "source": [
    "plt.hist(Bs, bins=1000, color=\"blue\")\n",
    "plt.hist(Ps, bins=1000, color=\"red\")\n",
    "plt.xlim(0,200)\n",
    "plt.show()"
   ]
  },
  {
   "cell_type": "code",
   "execution_count": null,
   "metadata": {
    "collapsed": false
   },
   "outputs": [],
   "source": [
    "Bs, Ps = [], []\n",
    "for gene in Selected:\n",
    "    Bs.append(len(gene.Bmutations))\n",
    "    Ps.append(len(gene.Pmutations))"
   ]
  },
  {
   "cell_type": "code",
   "execution_count": null,
   "metadata": {
    "collapsed": false
   },
   "outputs": [],
   "source": [
    "plt.scatter([float(x)/10 for x in Bs], Ps)\n",
    "plt.show()"
   ]
  },
  {
   "cell_type": "code",
   "execution_count": null,
   "metadata": {
    "collapsed": false
   },
   "outputs": [],
   "source": [
    "fout = open(\"selected.genes.txt\", 'wb')\n",
    "geneset = []\n",
    "for gene in Selected:\n",
    "    geneset.append(gene.gene) \n",
    "    fout.write(gene.gene+\"\\n\")\n",
    "geneset = set(geneset)\n",
    "print len(geneset)"
   ]
  },
  {
   "cell_type": "code",
   "execution_count": null,
   "metadata": {
    "collapsed": false
   },
   "outputs": [],
   "source": [
    "SP = csv.writer(open(\"Pathogenic.selected.tsv\", 'wb'), delimiter=\"\\t\")\n",
    "SB = csv.writer(open(\"Benigh.selected.tsv\", 'wb'), delimiter=\"\\t\")\n",
    "\n",
    "\n",
    "P = csv.reader(open(patho, 'rb'), delimiter=\"\\t\")\n",
    "SP.writerow(P.next())\n",
    "for row in P:\n",
    "    gene, mut = row[0], row[16]\n",
    "    if gene in geneset:\n",
    "        SP.writerow(row)\n",
    "    \n",
    "B = csv.reader(open(benigh, 'rb'), delimiter=\"\\t\")\n",
    "SB.writerow(B.next())\n",
    "for row in B:\n",
    "    gene, mut = row[0], row[16]\n",
    "    if gene in geneset:\n",
    "        SB.writerow(row)"
   ]
  },
  {
   "cell_type": "code",
   "execution_count": null,
   "metadata": {
    "collapsed": true
   },
   "outputs": [],
   "source": [
    "def AnnotatePDBFname(inpF, outF):\n",
    "    Fin = csv.reader(open(inpF, 'rb'), delimiter=\"\\t\")\n",
    "    Fout = csv.writer(open(outF, 'wb'), delimiter=\"\\t\")\n",
    "    Fout.writerow([\"PDB.Fil\"] + Fin.next())\n",
    "    for row in Fin:\n",
    "        uniprot, gene, mut = row[10], row[0], row[16]\n",
    "        if uniprot not in Gene2PDB:\n",
    "            PDB = \"-\"\n",
    "        else:\n",
    "            PDB = Gene2PDB[uniprot]\n",
    "        Fout.writerow([PDB]+row)"
   ]
  },
  {
   "cell_type": "code",
   "execution_count": null,
   "metadata": {
    "collapsed": false
   },
   "outputs": [],
   "source": [
    "AnnotatePDBFname(\"Pathogenic.selected.tsv\", \"Pathogenic.selected.PDB.tsv\")"
   ]
  },
  {
   "cell_type": "code",
   "execution_count": null,
   "metadata": {
    "collapsed": false
   },
   "outputs": [],
   "source": [
    "AnnotatePDBFname(\"Benigh.selected.tsv\", \"Benigh.selected.PDB.tsv\")"
   ]
  },
  {
   "cell_type": "markdown",
   "metadata": {},
   "source": [
    "# Select PDB file"
   ]
  },
  {
   "cell_type": "code",
   "execution_count": null,
   "metadata": {
    "collapsed": true
   },
   "outputs": [],
   "source": []
  },
  {
   "cell_type": "code",
   "execution_count": null,
   "metadata": {
    "collapsed": false,
    "scrolled": false
   },
   "outputs": [],
   "source": [
    "MapFilHead = [\"PDB\", \"Chain\", \"PDB sequential residue number\", \"PDB_AA\", \"PDB_Coord\", \"Uniprot\", \"Uni_AA\", \"Uni_Coord\"]\n",
    "PDB2Uniprot = \"../dat/test.map\"\n",
    "ins.ProcessPDB2Uniprot(PDB2Uniprot)"
   ]
  },
  {
   "cell_type": "code",
   "execution_count": null,
   "metadata": {
    "collapsed": false
   },
   "outputs": [],
   "source": [
    "Uni2PDBFil = \"Uni2PDB.res.map\"\n",
    "ResMapFil = \"../dat/PDB2SWISS.sort.tsv\"\n",
    "reader = csv.reader(open(Uni2PDBFil, 'rb'), delimiter=\"\\t\")\n",
    "keeps = []\n",
    "for row in reader:\n",
    "    Uni = row[0]\n",
    "    pdb, chain = row[1].split(\".\")\n",
    "    ID = \".\".join([Uni,pdb,chain])\n",
    "    keeps.append(ID)\n",
    "keeps = set(keeps)\n",
    "reader = csv.reader(open(ResMapFil, 'rb'), delimiter=\"\\t\")\n",
    "writer = csv.writer(open(\"../dat/PDB2SWISS.select.tsv\", 'wb'), delimiter=\"\\t\")\n",
    "for row in reader:\n",
    "    ID = \".\".join([row[5], row[0], row[1]])\n",
    "    if ID in keeps:\n",
    "        writer.writerow(row)\n"
   ]
  },
  {
   "cell_type": "markdown",
   "metadata": {},
   "source": [
    "# Clean up Transcripts and Exons"
   ]
  },
  {
   "cell_type": "code",
   "execution_count": null,
   "metadata": {
    "collapsed": false
   },
   "outputs": [],
   "source": [
    "MPCTrans = pd.read_excel(\"../dat/MPC.Transcripts.xlsx\", sheetname=\"Table_S2\")\n",
    "ExACTrans = pd.read_excel(\"../dat/ExAC_Genes_constrain.xlsx\", sheetname=\"Gene Constraint\")"
   ]
  },
  {
   "cell_type": "code",
   "execution_count": null,
   "metadata": {
    "collapsed": false
   },
   "outputs": [],
   "source": [
    "transcriptSet = set(ExACTrans[\"transcript\"].values)"
   ]
  },
  {
   "cell_type": "code",
   "execution_count": null,
   "metadata": {
    "collapsed": false
   },
   "outputs": [],
   "source": [
    "transcript = ExACTrans[\"transcript\"].values\n",
    "gene = ExACTrans[\"gene\"].values\n",
    "_map = dict(zip(transcript, gene))"
   ]
  },
  {
   "cell_type": "code",
   "execution_count": null,
   "metadata": {
    "collapsed": false
   },
   "outputs": [],
   "source": [
    "reader = csv.reader(open(\"../dat/hgTables.txt\", 'rb'), delimiter=\"\\t\")\n",
    "writer = csv.writer(open(\"../dat/gencodeV19.selected.Transcripts.bed\", 'wb'), delimiter=\"\\t\")\n",
    "for row in reader:\n",
    "    trans = row[3].split(\"_\")[0]\n",
    "    if trans in transcriptSet:\n",
    "        row.append(_map[trans])\n",
    "        writer.writerow(row)"
   ]
  },
  {
   "cell_type": "markdown",
   "metadata": {},
   "source": [
    "# Regression Model on Pmut and Emut"
   ]
  },
  {
   "cell_type": "code",
   "execution_count": null,
   "metadata": {
    "collapsed": true
   },
   "outputs": [],
   "source": [
    "from sklearn import datasets, linear_model\n",
    "from sklearn.metrics import mean_squared_error, r2_score\n",
    "import scipy\n",
    "from scipy import stats"
   ]
  },
  {
   "cell_type": "code",
   "execution_count": 77,
   "metadata": {
    "collapsed": true
   },
   "outputs": [],
   "source": [
    "ExAC = pd.read_excel(\"../dat/ExAC_Genes_constrain.xlsx\", sheetname=\"Gene Constraint\")"
   ]
  },
  {
   "cell_type": "code",
   "execution_count": 78,
   "metadata": {
    "collapsed": true
   },
   "outputs": [],
   "source": [
    "ExAC = ExAC[~ExAC[\"chr\"].isin([\"X\",\"Y\"])]"
   ]
  },
  {
   "cell_type": "code",
   "execution_count": 79,
   "metadata": {
    "collapsed": true
   },
   "outputs": [],
   "source": [
    "N = 1e7\n",
    "mu_syn = ExAC[\"mu_syn\"].values\n",
    "n_syn = ExAC[\"n_syn\"].values\n",
    "e_syn = ExAC[\"exp_syn\"].values\n",
    "X = [x*N for x in mu_syn]\n",
    "Y = n_syn"
   ]
  },
  {
   "cell_type": "code",
   "execution_count": 80,
   "metadata": {
    "collapsed": false
   },
   "outputs": [
    {
     "name": "stdout",
     "output_type": "stream",
     "text": [
      "slope:0.94609829828, intercept:5.91090977029, R2:0.955839110698, P:0.0\n"
     ]
    }
   ],
   "source": [
    "slope, intercept, r_value, p_value, std_err = stats.linregress(n_syn,e_syn)\n",
    "print \"slope:{}, intercept:{}, R2:{}, P:{}\".format(slope, intercept, r_value**2,p_value)"
   ]
  },
  {
   "cell_type": "code",
   "execution_count": 81,
   "metadata": {
    "collapsed": true
   },
   "outputs": [],
   "source": [
    "def LinearModelPredict(slope, intercept, X):\n",
    "    return slope*X+intercept"
   ]
  },
  {
   "cell_type": "code",
   "execution_count": 82,
   "metadata": {
    "collapsed": false
   },
   "outputs": [
    {
     "data": {
      "image/png": "[encoded data removed]",
      "text/plain": [
       "<Figure size 432x288 with 1 Axes>"
      ]
     },
     "metadata": {},
     "output_type": "display_data"
    }
   ],
   "source": [
    "plt.scatter(e_syn, n_syn)\n",
    "plt.show()"
   ]
  },
  {
   "cell_type": "code",
   "execution_count": 109,
   "metadata": {
    "collapsed": true
   },
   "outputs": [],
   "source": [
    "N = 1e7\n",
    "mu_mis = ExAC[\"mu_mis\"].values\n",
    "n_mis = ExAC[\"n_mis\"].values\n",
    "exp_mis = ExAC[\"exp_mis\"].values\n",
    "exp_mis_J = [LinearModelPredict(1.00873430543, 1.49957822023, x*N) for x in mu_mis]\n",
    "X = [x*N for x in mu_mis]\n",
    "Y = n_mis"
   ]
  },
  {
   "cell_type": "code",
   "execution_count": 105,
   "metadata": {
    "collapsed": false
   },
   "outputs": [
    {
     "name": "stdout",
     "output_type": "stream",
     "text": [
      "slope:0.94450742332, intercept:-5.12782335911, R2:0.837257713578, P:0.0\n"
     ]
    },
    {
     "data": {
      "image/png": "[encoded data removed]",
      "text/plain": [
       "<Figure size 432x288 with 1 Axes>"
      ]
     },
     "metadata": {},
     "output_type": "display_data"
    }
   ],
   "source": [
    "slope, intercept, r_value, p_value, std_err = stats.linregress(X,Y)\n",
    "print \"slope:{}, intercept:{}, R2:{}, P:{}\".format(slope, intercept, r_value**2,p_value)\n",
    "plt.scatter(X, n_syn)\n",
    "plt.show()"
   ]
  },
  {
   "cell_type": "code",
   "execution_count": 112,
   "metadata": {
    "collapsed": false
   },
   "outputs": [
    {
     "name": "stdout",
     "output_type": "stream",
     "text": [
      "17484 [ 837.31460102  311.83321552  149.1277385    50.87644239   82.9624756\n",
      "  297.29009792  231.45624835  243.26647544   69.31116853  110.74877095]\n",
      "17484 [1032.4936809146991, 293.86541542440034, 248.38384080875224, 100.7080387684442, 74.615255005820671, 337.30751769897608, 266.09529443067538, 315.75389824268296, 81.954079483786188, 166.4368465441429]\n"
     ]
    }
   ],
   "source": [
    "print len(exp_mis), exp_mis[0:10]\n",
    "print len(exp_mis_J), exp_mis_J[0:10]"
   ]
  },
  {
   "cell_type": "code",
   "execution_count": 113,
   "metadata": {
    "collapsed": false
   },
   "outputs": [
    {
     "data": {
      "image/png": "[encoded data removed]",
      "text/plain": [
       "<Figure size 432x288 with 1 Axes>"
      ]
     },
     "metadata": {},
     "output_type": "display_data"
    }
   ],
   "source": [
    "plt.scatter(exp_mis, exp_mis_J)\n",
    "plt.show()"
   ]
  },
  {
   "cell_type": "code",
   "execution_count": 95,
   "metadata": {
    "collapsed": false
   },
   "outputs": [],
   "source": [
    "SUB = ExAC[~ExAC[\"chr\"].isin([\"X\",\"Y\"])]"
   ]
  },
  {
   "cell_type": "code",
   "execution_count": 96,
   "metadata": {
    "collapsed": false
   },
   "outputs": [],
   "source": [
    "mu_syn = SUB[\"mu_syn\"].values\n",
    "mu_mis = SUB[\"mu_mis\"].values\n",
    "exp_syn = SUB[\"exp_syn\"].values\n",
    "exp_mis = SUB[\"exp_mis\"].values\n",
    "n_syn = SUB[\"n_syn\"].values\n",
    "n_mis = SUB[\"n_mis\"].values"
   ]
  },
  {
   "cell_type": "code",
   "execution_count": 97,
   "metadata": {
    "collapsed": true
   },
   "outputs": [],
   "source": [
    "X = [(x/y) for (x,y) in zip(mu_syn, mu_mis)]\n",
    "Y = [(x/y) for (x,y) in zip(exp_syn, exp_mis)]"
   ]
  },
  {
   "cell_type": "code",
   "execution_count": 98,
   "metadata": {
    "collapsed": false
   },
   "outputs": [
    {
     "data": {
      "image/png": "[encoded data removed]",
      "text/plain": [
       "<Figure size 432x288 with 1 Axes>"
      ]
     },
     "metadata": {},
     "output_type": "display_data"
    }
   ],
   "source": [
    "plt.scatter(X, Y)\n",
    "plt.show()"
   ]
  },
  {
   "cell_type": "code",
   "execution_count": null,
   "metadata": {
    "collapsed": true
   },
   "outputs": [],
   "source": []
  },
  {
   "cell_type": "code",
   "execution_count": 22,
   "metadata": {
    "collapsed": true
   },
   "outputs": [],
   "source": [
    "def chi2(obs, exp):\n",
    "    return (obs-exp)**2/exp"
   ]
  },
  {
   "cell_type": "code",
   "execution_count": 29,
   "metadata": {
    "collapsed": true
   },
   "outputs": [],
   "source": [
    "def Zscore(obs, exp):\n",
    "    chi2 = (obs-exp)**2/exp\n",
    "    if obs > exp:\n",
    "        return -1 * math.sqrt(chi2)\n",
    "    else:\n",
    "        return math.sqrt(chi2)"
   ]
  },
  {
   "cell_type": "code",
   "execution_count": 25,
   "metadata": {
    "collapsed": false
   },
   "outputs": [
    {
     "name": "stdout",
     "output_type": "stream",
     "text": [
      "33.825651529 5.81598242165\n"
     ]
    }
   ],
   "source": [
    "obs, exp = 227.0 ,154.668965626\n",
    "X = chi2(obs, exp)\n",
    "Z = math.sqrt(X)\n",
    "print X,Z"
   ]
  },
  {
   "cell_type": "code",
   "execution_count": 26,
   "metadata": {
    "collapsed": false
   },
   "outputs": [
    {
     "data": {
      "text/plain": [
       "5.882352941176471e-07"
      ]
     },
     "execution_count": 26,
     "metadata": {},
     "output_type": "execute_result"
    }
   ],
   "source": [
    "0.01/17000"
   ]
  },
  {
   "cell_type": "code",
   "execution_count": 36,
   "metadata": {
    "collapsed": true
   },
   "outputs": [],
   "source": [
    "ExACTrans = pd.read_excel(\"../dat/ExAC_Genes_constrain.xlsx\", sheetname=\"Gene Constraint\")"
   ]
  },
  {
   "cell_type": "code",
   "execution_count": 37,
   "metadata": {
    "collapsed": false
   },
   "outputs": [
    {
     "data": {
      "text/html": [
       "<div>\n",
       "<style>\n",
       "    .dataframe thead tr:only-child th {\n",
       "        text-align: right;\n",
       "    }\n",
       "\n",
       "    .dataframe thead th {\n",
       "        text-align: left;\n",
       "    }\n",
       "\n",
       "    .dataframe tbody tr th {\n",
       "        vertical-align: top;\n",
       "    }\n",
       "</style>\n",
       "<table border=\"1\" class=\"dataframe\">\n",
       "  <thead>\n",
       "    <tr style=\"text-align: right;\">\n",
       "      <th></th>\n",
       "      <th>transcript</th>\n",
       "      <th>gene</th>\n",
       "      <th>chr</th>\n",
       "      <th>n_exons</th>\n",
       "      <th>cds_start</th>\n",
       "      <th>cds_end</th>\n",
       "      <th>bp</th>\n",
       "      <th>mu_syn</th>\n",
       "      <th>mu_mis</th>\n",
       "      <th>mu_lof</th>\n",
       "      <th>...</th>\n",
       "      <th>n_lof</th>\n",
       "      <th>exp_syn</th>\n",
       "      <th>exp_mis</th>\n",
       "      <th>exp_lof</th>\n",
       "      <th>syn_z</th>\n",
       "      <th>mis_z</th>\n",
       "      <th>lof_z</th>\n",
       "      <th>pLI</th>\n",
       "      <th>pRec</th>\n",
       "      <th>pNull</th>\n",
       "    </tr>\n",
       "  </thead>\n",
       "  <tbody>\n",
       "    <tr>\n",
       "      <th>0</th>\n",
       "      <td>ENST00000379370.2</td>\n",
       "      <td>AGRN</td>\n",
       "      <td>1</td>\n",
       "      <td>36</td>\n",
       "      <td>955552</td>\n",
       "      <td>990361</td>\n",
       "      <td>6138</td>\n",
       "      <td>0.000055</td>\n",
       "      <td>0.000102</td>\n",
       "      <td>4.848279e-06</td>\n",
       "      <td>...</td>\n",
       "      <td>13</td>\n",
       "      <td>445.215539</td>\n",
       "      <td>837.314601</td>\n",
       "      <td>54.416958</td>\n",
       "      <td>-2.109089</td>\n",
       "      <td>0.140544</td>\n",
       "      <td>5.561613</td>\n",
       "      <td>1.733523e-01</td>\n",
       "      <td>0.826648</td>\n",
       "      <td>1.592093e-09</td>\n",
       "    </tr>\n",
       "    <tr>\n",
       "      <th>1</th>\n",
       "      <td>ENST00000327044.6</td>\n",
       "      <td>NOC2L</td>\n",
       "      <td>1</td>\n",
       "      <td>19</td>\n",
       "      <td>880073</td>\n",
       "      <td>894620</td>\n",
       "      <td>2250</td>\n",
       "      <td>0.000014</td>\n",
       "      <td>0.000029</td>\n",
       "      <td>2.065329e-06</td>\n",
       "      <td>...</td>\n",
       "      <td>29</td>\n",
       "      <td>154.668966</td>\n",
       "      <td>311.833216</td>\n",
       "      <td>28.883512</td>\n",
       "      <td>-3.605556</td>\n",
       "      <td>-2.275892</td>\n",
       "      <td>-0.021471</td>\n",
       "      <td>1.330382e-19</td>\n",
       "      <td>0.002563</td>\n",
       "      <td>9.974372e-01</td>\n",
       "    </tr>\n",
       "    <tr>\n",
       "      <th>2</th>\n",
       "      <td>ENST00000379198.2</td>\n",
       "      <td>B3GALT6</td>\n",
       "      <td>1</td>\n",
       "      <td>1</td>\n",
       "      <td>1167658</td>\n",
       "      <td>1168648</td>\n",
       "      <td>990</td>\n",
       "      <td>0.000014</td>\n",
       "      <td>0.000024</td>\n",
       "      <td>4.561960e-07</td>\n",
       "      <td>...</td>\n",
       "      <td>2</td>\n",
       "      <td>82.403301</td>\n",
       "      <td>149.127739</td>\n",
       "      <td>3.000516</td>\n",
       "      <td>2.349510</td>\n",
       "      <td>3.209371</td>\n",
       "      <td>0.572158</td>\n",
       "      <td>4.810447e-02</td>\n",
       "      <td>0.682102</td>\n",
       "      <td>2.697937e-01</td>\n",
       "    </tr>\n",
       "    <tr>\n",
       "      <th>3</th>\n",
       "      <td>ENST00000421241.2</td>\n",
       "      <td>C1orf159</td>\n",
       "      <td>1</td>\n",
       "      <td>8</td>\n",
       "      <td>1018272</td>\n",
       "      <td>1026923</td>\n",
       "      <td>597</td>\n",
       "      <td>0.000005</td>\n",
       "      <td>0.000010</td>\n",
       "      <td>5.878979e-07</td>\n",
       "      <td>...</td>\n",
       "      <td>2</td>\n",
       "      <td>25.770931</td>\n",
       "      <td>50.876442</td>\n",
       "      <td>4.392331</td>\n",
       "      <td>-0.882809</td>\n",
       "      <td>-0.419916</td>\n",
       "      <td>1.130742</td>\n",
       "      <td>9.087764e-02</td>\n",
       "      <td>0.765691</td>\n",
       "      <td>1.434310e-01</td>\n",
       "    </tr>\n",
       "    <tr>\n",
       "      <th>4</th>\n",
       "      <td>ENST00000379389.4</td>\n",
       "      <td>ISG15</td>\n",
       "      <td>1</td>\n",
       "      <td>2</td>\n",
       "      <td>948953</td>\n",
       "      <td>949858</td>\n",
       "      <td>498</td>\n",
       "      <td>0.000004</td>\n",
       "      <td>0.000007</td>\n",
       "      <td>2.358722e-07</td>\n",
       "      <td>...</td>\n",
       "      <td>3</td>\n",
       "      <td>47.592276</td>\n",
       "      <td>82.962476</td>\n",
       "      <td>3.510674</td>\n",
       "      <td>0.322813</td>\n",
       "      <td>0.212786</td>\n",
       "      <td>0.269984</td>\n",
       "      <td>9.847813e-03</td>\n",
       "      <td>0.600249</td>\n",
       "      <td>3.899029e-01</td>\n",
       "    </tr>\n",
       "  </tbody>\n",
       "</table>\n",
       "<p>5 rows × 22 columns</p>\n",
       "</div>"
      ],
      "text/plain": [
       "          transcript      gene chr  n_exons  cds_start  cds_end    bp  \\\n",
       "0  ENST00000379370.2      AGRN   1       36     955552   990361  6138   \n",
       "1  ENST00000327044.6     NOC2L   1       19     880073   894620  2250   \n",
       "2  ENST00000379198.2   B3GALT6   1        1    1167658  1168648   990   \n",
       "3  ENST00000421241.2  C1orf159   1        8    1018272  1026923   597   \n",
       "4  ENST00000379389.4     ISG15   1        2     948953   949858   498   \n",
       "\n",
       "     mu_syn    mu_mis        mu_lof      ...       n_lof     exp_syn  \\\n",
       "0  0.000055  0.000102  4.848279e-06      ...          13  445.215539   \n",
       "1  0.000014  0.000029  2.065329e-06      ...          29  154.668966   \n",
       "2  0.000014  0.000024  4.561960e-07      ...           2   82.403301   \n",
       "3  0.000005  0.000010  5.878979e-07      ...           2   25.770931   \n",
       "4  0.000004  0.000007  2.358722e-07      ...           3   47.592276   \n",
       "\n",
       "      exp_mis    exp_lof     syn_z     mis_z     lof_z           pLI  \\\n",
       "0  837.314601  54.416958 -2.109089  0.140544  5.561613  1.733523e-01   \n",
       "1  311.833216  28.883512 -3.605556 -2.275892 -0.021471  1.330382e-19   \n",
       "2  149.127739   3.000516  2.349510  3.209371  0.572158  4.810447e-02   \n",
       "3   50.876442   4.392331 -0.882809 -0.419916  1.130742  9.087764e-02   \n",
       "4   82.962476   3.510674  0.322813  0.212786  0.269984  9.847813e-03   \n",
       "\n",
       "       pRec         pNull  \n",
       "0  0.826648  1.592093e-09  \n",
       "1  0.002563  9.974372e-01  \n",
       "2  0.682102  2.697937e-01  \n",
       "3  0.765691  1.434310e-01  \n",
       "4  0.600249  3.899029e-01  \n",
       "\n",
       "[5 rows x 22 columns]"
      ]
     },
     "execution_count": 37,
     "metadata": {},
     "output_type": "execute_result"
    }
   ],
   "source": [
    "ExACTrans.head(5)"
   ]
  },
  {
   "cell_type": "code",
   "execution_count": 30,
   "metadata": {
    "collapsed": true
   },
   "outputs": [],
   "source": [
    "n_syn = ExACTrans[\"n_syn\"].values\n",
    "exp_syn = ExACTrans[\"exp_syn\"].values\n",
    "ucz = [Zscore(obs,exp) for obs, exp in zip(n_syn,exp_syn)]"
   ]
  },
  {
   "cell_type": "code",
   "execution_count": 39,
   "metadata": {
    "collapsed": false
   },
   "outputs": [
    {
     "name": "stdout",
     "output_type": "stream",
     "text": [
      "3103060\n"
     ]
    }
   ],
   "source": [
    "print np.sum(ExACTrans[\"n_mis\"])"
   ]
  },
  {
   "cell_type": "code",
   "execution_count": 32,
   "metadata": {
    "collapsed": false
   },
   "outputs": [
    {
     "data": {
      "image/png": "[encoded data removed]",
      "text/plain": [
       "<Figure size 432x288 with 1 Axes>"
      ]
     },
     "metadata": {},
     "output_type": "display_data"
    }
   ],
   "source": [
    "plt.hist(ucz, 100)\n",
    "plt.show()"
   ]
  },
  {
   "cell_type": "code",
   "execution_count": 36,
   "metadata": {
    "collapsed": false
   },
   "outputs": [
    {
     "name": "stdout",
     "output_type": "stream",
     "text": [
      "1.61301505964\n"
     ]
    }
   ],
   "source": [
    "subz = [x for x in ucz if abs(x)<5]\n",
    "std = np.std(subz)\n",
    "print std"
   ]
  },
  {
   "cell_type": "code",
   "execution_count": 37,
   "metadata": {
    "collapsed": false
   },
   "outputs": [
    {
     "data": {
      "image/png": "[encoded data removed]",
      "text/plain": [
       "<Figure size 432x288 with 1 Axes>"
      ]
     },
     "metadata": {},
     "output_type": "display_data"
    }
   ],
   "source": [
    "cz = [x/std for x in ucz]\n",
    "plt.hist(cz, 100)\n",
    "plt.show()"
   ]
  },
  {
   "cell_type": "code",
   "execution_count": 38,
   "metadata": {
    "collapsed": false
   },
   "outputs": [
    {
     "data": {
      "image/png": "[encoded data removed]",
      "text/plain": [
       "<Figure size 432x288 with 1 Axes>"
      ]
     },
     "metadata": {},
     "output_type": "display_data"
    }
   ],
   "source": [
    "syn_z = ExACTrans[\"syn_z\"].values\n",
    "plt.scatter(syn_z, cz)\n",
    "plt.show()"
   ]
  },
  {
   "cell_type": "code",
   "execution_count": 39,
   "metadata": {
    "collapsed": true
   },
   "outputs": [],
   "source": [
    "n_mis = ExACTrans[\"n_mis\"].values\n",
    "exp_mis = ExACTrans[\"exp_mis\"].values\n",
    "ucz = [Zscore(obs,exp) for obs, exp in zip(n_mis,exp_mis)]"
   ]
  },
  {
   "cell_type": "code",
   "execution_count": 55,
   "metadata": {
    "collapsed": false
   },
   "outputs": [
    {
     "name": "stdout",
     "output_type": "stream",
     "text": [
      "2.67699700414\n"
     ]
    }
   ],
   "source": [
    "halfZ = [x for x in ucz if x < 0]\n",
    "tmp = halfZ[:]\n",
    "halfZ.extend([x*-1 for x in tmp])\n",
    "std = np.std(halfZ)\n",
    "ref = [x/std for x in halfZ]\n",
    "print std"
   ]
  },
  {
   "cell_type": "code",
   "execution_count": 66,
   "metadata": {
    "collapsed": false
   },
   "outputs": [
    {
     "data": {
      "image/png": "[encoded data removed]",
      "text/plain": [
       "<Figure size 600x400 with 1 Axes>"
      ]
     },
     "metadata": {},
     "output_type": "display_data"
    }
   ],
   "source": [
    "cz = [x/std for x in ucz]\n",
    "fig, ax = plt.subplots(dpi=100)\n",
    "plt.hist(ucz, 100, color=\"blue\", alpha=0.2, normed=1, label = \"orignial\")\n",
    "plt.hist(cz, 100, color=\"red\", normed=1, label = \"corrected\")\n",
    "plt.hist(ref, 100, color=\"green\", alpha = 0.3, normed=1, label = \"reference\")\n",
    "plt.xlim(-10, 10)\n",
    "plt.grid(True)\n",
    "plt.legend()\n",
    "plt.show()"
   ]
  },
  {
   "cell_type": "code",
   "execution_count": 44,
   "metadata": {
    "collapsed": false
   },
   "outputs": [
    {
     "data": {
      "image/png": "[encoded data removed]",
      "text/plain": [
       "<Figure size 432x288 with 1 Axes>"
      ]
     },
     "metadata": {},
     "output_type": "display_data"
    }
   ],
   "source": [
    "mis_z = ExACTrans[\"mis_z\"].values\n",
    "plt.scatter(mis_z, cz)\n",
    "plt.show()"
   ]
  },
  {
   "cell_type": "code",
   "execution_count": 50,
   "metadata": {
    "collapsed": false
   },
   "outputs": [
    {
     "data": {
      "text/plain": [
       "251.496"
      ]
     },
     "execution_count": 50,
     "metadata": {},
     "output_type": "execute_result"
    }
   ],
   "source": [
    "125748.0 * 2 / 1000"
   ]
  },
  {
   "cell_type": "code",
   "execution_count": 49,
   "metadata": {
    "collapsed": false
   },
   "outputs": [
    {
     "data": {
      "text/plain": [
       "120"
      ]
     },
     "execution_count": 49,
     "metadata": {},
     "output_type": "execute_result"
    }
   ],
   "source": [
    "60000 * 2 /1000"
   ]
  },
  {
   "cell_type": "code",
   "execution_count": 28,
   "metadata": {
    "collapsed": false
   },
   "outputs": [],
   "source": [
    "ExonTab = pd.read_csv(\"/Users/jiayao/Work/DeepSeq/DeepseqG9/Jiayao/src/ExonMuteRate.tsv\", delimiter=\"\\t\", header=None)\n",
    "ExonTab.columns = [\"chr\", \"start\", \"end\", \"Trans\", \"0\", \"srand\", \"gene\", \"DoC\", \"syn_obs\", \"mis_obs\", \"mis_mu\"]"
   ]
  },
  {
   "cell_type": "code",
   "execution_count": 29,
   "metadata": {
    "collapsed": false
   },
   "outputs": [
    {
     "data": {
      "text/html": [
       "<div>\n",
       "<style>\n",
       "    .dataframe thead tr:only-child th {\n",
       "        text-align: right;\n",
       "    }\n",
       "\n",
       "    .dataframe thead th {\n",
       "        text-align: left;\n",
       "    }\n",
       "\n",
       "    .dataframe tbody tr th {\n",
       "        vertical-align: top;\n",
       "    }\n",
       "</style>\n",
       "<table border=\"1\" class=\"dataframe\">\n",
       "  <thead>\n",
       "    <tr style=\"text-align: right;\">\n",
       "      <th></th>\n",
       "      <th>chr</th>\n",
       "      <th>start</th>\n",
       "      <th>end</th>\n",
       "      <th>Trans</th>\n",
       "      <th>0</th>\n",
       "      <th>srand</th>\n",
       "      <th>gene</th>\n",
       "      <th>DoC</th>\n",
       "      <th>syn_obs</th>\n",
       "      <th>mis_obs</th>\n",
       "      <th>mis_mu</th>\n",
       "    </tr>\n",
       "  </thead>\n",
       "  <tbody>\n",
       "    <tr>\n",
       "      <th>0</th>\n",
       "      <td>chr1</td>\n",
       "      <td>67000041</td>\n",
       "      <td>67000051</td>\n",
       "      <td>ENST00000371037.4_cds_0_0_chr1_67000042_f</td>\n",
       "      <td>0</td>\n",
       "      <td>+</td>\n",
       "      <td>SGIP1</td>\n",
       "      <td>65.000000</td>\n",
       "      <td>0</td>\n",
       "      <td>0</td>\n",
       "      <td>1.037008e-07</td>\n",
       "    </tr>\n",
       "    <tr>\n",
       "      <th>1</th>\n",
       "      <td>chr1</td>\n",
       "      <td>67091529</td>\n",
       "      <td>67091593</td>\n",
       "      <td>ENST00000371037.4_cds_1_0_chr1_67091530_f</td>\n",
       "      <td>0</td>\n",
       "      <td>+</td>\n",
       "      <td>SGIP1</td>\n",
       "      <td>54.000000</td>\n",
       "      <td>6</td>\n",
       "      <td>7</td>\n",
       "      <td>1.004450e-06</td>\n",
       "    </tr>\n",
       "    <tr>\n",
       "      <th>2</th>\n",
       "      <td>chr1</td>\n",
       "      <td>67098752</td>\n",
       "      <td>67098777</td>\n",
       "      <td>ENST00000371037.4_cds_2_0_chr1_67098753_f</td>\n",
       "      <td>0</td>\n",
       "      <td>+</td>\n",
       "      <td>SGIP1</td>\n",
       "      <td>72.000000</td>\n",
       "      <td>1</td>\n",
       "      <td>2</td>\n",
       "      <td>1.727506e-07</td>\n",
       "    </tr>\n",
       "    <tr>\n",
       "      <th>3</th>\n",
       "      <td>chr1</td>\n",
       "      <td>67101626</td>\n",
       "      <td>67101698</td>\n",
       "      <td>ENST00000371037.4_cds_3_0_chr1_67101627_f</td>\n",
       "      <td>0</td>\n",
       "      <td>+</td>\n",
       "      <td>SGIP1</td>\n",
       "      <td>64.597222</td>\n",
       "      <td>0</td>\n",
       "      <td>0</td>\n",
       "      <td>9.691778e-07</td>\n",
       "    </tr>\n",
       "    <tr>\n",
       "      <th>4</th>\n",
       "      <td>chr1</td>\n",
       "      <td>67105459</td>\n",
       "      <td>67105516</td>\n",
       "      <td>ENST00000371037.4_cds_4_0_chr1_67105460_f</td>\n",
       "      <td>0</td>\n",
       "      <td>+</td>\n",
       "      <td>SGIP1</td>\n",
       "      <td>59.000000</td>\n",
       "      <td>4</td>\n",
       "      <td>11</td>\n",
       "      <td>4.808742e-07</td>\n",
       "    </tr>\n",
       "  </tbody>\n",
       "</table>\n",
       "</div>"
      ],
      "text/plain": [
       "    chr     start       end                                      Trans  0  \\\n",
       "0  chr1  67000041  67000051  ENST00000371037.4_cds_0_0_chr1_67000042_f  0   \n",
       "1  chr1  67091529  67091593  ENST00000371037.4_cds_1_0_chr1_67091530_f  0   \n",
       "2  chr1  67098752  67098777  ENST00000371037.4_cds_2_0_chr1_67098753_f  0   \n",
       "3  chr1  67101626  67101698  ENST00000371037.4_cds_3_0_chr1_67101627_f  0   \n",
       "4  chr1  67105459  67105516  ENST00000371037.4_cds_4_0_chr1_67105460_f  0   \n",
       "\n",
       "  srand   gene        DoC  syn_obs  mis_obs        mis_mu  \n",
       "0     +  SGIP1  65.000000        0        0  1.037008e-07  \n",
       "1     +  SGIP1  54.000000        6        7  1.004450e-06  \n",
       "2     +  SGIP1  72.000000        1        2  1.727506e-07  \n",
       "3     +  SGIP1  64.597222        0        0  9.691778e-07  \n",
       "4     +  SGIP1  59.000000        4       11  4.808742e-07  "
      ]
     },
     "execution_count": 29,
     "metadata": {},
     "output_type": "execute_result"
    }
   ],
   "source": [
    "ExonTab.head(5)"
   ]
  },
  {
   "cell_type": "code",
   "execution_count": null,
   "metadata": {
    "collapsed": true
   },
   "outputs": [],
   "source": []
  },
  {
   "cell_type": "code",
   "execution_count": 30,
   "metadata": {
    "collapsed": false
   },
   "outputs": [],
   "source": [
    "\"slope:0.94609829828, intercept:5.91090977029\"\n",
    "slope = 0.94609829828 \n",
    "intercept = 5.91090977029"
   ]
  },
  {
   "cell_type": "code",
   "execution_count": 31,
   "metadata": {
    "collapsed": true
   },
   "outputs": [],
   "source": [
    "def CorrectCount(ExpC, Cov):\n",
    "    if Cov >= 50:\n",
    "        return ExpC\n",
    "    elif Cov >1:\n",
    "        return ExpC * (0.089 + 0.217 * math.log(Cov))\n",
    "    else:\n",
    "        return 0.089 * ExpC"
   ]
  },
  {
   "cell_type": "code",
   "execution_count": 32,
   "metadata": {
    "collapsed": true
   },
   "outputs": [],
   "source": [
    "ExonTab[\"mis_exp\"] = ExonTab[\"mis_mu\"]*slope*1e7+intercept"
   ]
  },
  {
   "cell_type": "code",
   "execution_count": 33,
   "metadata": {
    "collapsed": false
   },
   "outputs": [
    {
     "data": {
      "text/html": [
       "<div>\n",
       "<style>\n",
       "    .dataframe thead tr:only-child th {\n",
       "        text-align: right;\n",
       "    }\n",
       "\n",
       "    .dataframe thead th {\n",
       "        text-align: left;\n",
       "    }\n",
       "\n",
       "    .dataframe tbody tr th {\n",
       "        vertical-align: top;\n",
       "    }\n",
       "</style>\n",
       "<table border=\"1\" class=\"dataframe\">\n",
       "  <thead>\n",
       "    <tr style=\"text-align: right;\">\n",
       "      <th></th>\n",
       "      <th>chr</th>\n",
       "      <th>start</th>\n",
       "      <th>end</th>\n",
       "      <th>Trans</th>\n",
       "      <th>0</th>\n",
       "      <th>srand</th>\n",
       "      <th>gene</th>\n",
       "      <th>DoC</th>\n",
       "      <th>syn_obs</th>\n",
       "      <th>mis_obs</th>\n",
       "      <th>mis_mu</th>\n",
       "      <th>mis_exp</th>\n",
       "    </tr>\n",
       "  </thead>\n",
       "  <tbody>\n",
       "    <tr>\n",
       "      <th>0</th>\n",
       "      <td>chr1</td>\n",
       "      <td>67000041</td>\n",
       "      <td>67000051</td>\n",
       "      <td>ENST00000371037.4_cds_0_0_chr1_67000042_f</td>\n",
       "      <td>0</td>\n",
       "      <td>+</td>\n",
       "      <td>SGIP1</td>\n",
       "      <td>65.000000</td>\n",
       "      <td>0</td>\n",
       "      <td>0</td>\n",
       "      <td>1.037008e-07</td>\n",
       "      <td>6.892021</td>\n",
       "    </tr>\n",
       "    <tr>\n",
       "      <th>1</th>\n",
       "      <td>chr1</td>\n",
       "      <td>67091529</td>\n",
       "      <td>67091593</td>\n",
       "      <td>ENST00000371037.4_cds_1_0_chr1_67091530_f</td>\n",
       "      <td>0</td>\n",
       "      <td>+</td>\n",
       "      <td>SGIP1</td>\n",
       "      <td>54.000000</td>\n",
       "      <td>6</td>\n",
       "      <td>7</td>\n",
       "      <td>1.004450e-06</td>\n",
       "      <td>15.413992</td>\n",
       "    </tr>\n",
       "    <tr>\n",
       "      <th>2</th>\n",
       "      <td>chr1</td>\n",
       "      <td>67098752</td>\n",
       "      <td>67098777</td>\n",
       "      <td>ENST00000371037.4_cds_2_0_chr1_67098753_f</td>\n",
       "      <td>0</td>\n",
       "      <td>+</td>\n",
       "      <td>SGIP1</td>\n",
       "      <td>72.000000</td>\n",
       "      <td>1</td>\n",
       "      <td>2</td>\n",
       "      <td>1.727506e-07</td>\n",
       "      <td>7.545300</td>\n",
       "    </tr>\n",
       "    <tr>\n",
       "      <th>3</th>\n",
       "      <td>chr1</td>\n",
       "      <td>67101626</td>\n",
       "      <td>67101698</td>\n",
       "      <td>ENST00000371037.4_cds_3_0_chr1_67101627_f</td>\n",
       "      <td>0</td>\n",
       "      <td>+</td>\n",
       "      <td>SGIP1</td>\n",
       "      <td>64.597222</td>\n",
       "      <td>0</td>\n",
       "      <td>0</td>\n",
       "      <td>9.691778e-07</td>\n",
       "      <td>15.080285</td>\n",
       "    </tr>\n",
       "    <tr>\n",
       "      <th>4</th>\n",
       "      <td>chr1</td>\n",
       "      <td>67105459</td>\n",
       "      <td>67105516</td>\n",
       "      <td>ENST00000371037.4_cds_4_0_chr1_67105460_f</td>\n",
       "      <td>0</td>\n",
       "      <td>+</td>\n",
       "      <td>SGIP1</td>\n",
       "      <td>59.000000</td>\n",
       "      <td>4</td>\n",
       "      <td>11</td>\n",
       "      <td>4.808742e-07</td>\n",
       "      <td>10.460452</td>\n",
       "    </tr>\n",
       "  </tbody>\n",
       "</table>\n",
       "</div>"
      ],
      "text/plain": [
       "    chr     start       end                                      Trans  0  \\\n",
       "0  chr1  67000041  67000051  ENST00000371037.4_cds_0_0_chr1_67000042_f  0   \n",
       "1  chr1  67091529  67091593  ENST00000371037.4_cds_1_0_chr1_67091530_f  0   \n",
       "2  chr1  67098752  67098777  ENST00000371037.4_cds_2_0_chr1_67098753_f  0   \n",
       "3  chr1  67101626  67101698  ENST00000371037.4_cds_3_0_chr1_67101627_f  0   \n",
       "4  chr1  67105459  67105516  ENST00000371037.4_cds_4_0_chr1_67105460_f  0   \n",
       "\n",
       "  srand   gene        DoC  syn_obs  mis_obs        mis_mu    mis_exp  \n",
       "0     +  SGIP1  65.000000        0        0  1.037008e-07   6.892021  \n",
       "1     +  SGIP1  54.000000        6        7  1.004450e-06  15.413992  \n",
       "2     +  SGIP1  72.000000        1        2  1.727506e-07   7.545300  \n",
       "3     +  SGIP1  64.597222        0        0  9.691778e-07  15.080285  \n",
       "4     +  SGIP1  59.000000        4       11  4.808742e-07  10.460452  "
      ]
     },
     "execution_count": 33,
     "metadata": {},
     "output_type": "execute_result"
    }
   ],
   "source": [
    "ExonTab.head(5)"
   ]
  },
  {
   "cell_type": "code",
   "execution_count": 34,
   "metadata": {
    "collapsed": true
   },
   "outputs": [],
   "source": [
    "mis_exp = ExonTab[\"mis_exp\"].values\n",
    "mis_obs = ExonTab[\"mis_obs\"].values"
   ]
  },
  {
   "cell_type": "code",
   "execution_count": 35,
   "metadata": {
    "collapsed": false
   },
   "outputs": [
    {
     "name": "stdout",
     "output_type": "stream",
     "text": [
      "3795535\n"
     ]
    }
   ],
   "source": [
    "print np.sum(mis_obs)"
   ]
  },
  {
   "cell_type": "code",
   "execution_count": 41,
   "metadata": {
    "collapsed": false
   },
   "outputs": [
    {
     "data": {
      "text/plain": [
       "1.223158752972872"
      ]
     },
     "execution_count": 41,
     "metadata": {},
     "output_type": "execute_result"
    }
   ],
   "source": [
    "3795535.0/3103060"
   ]
  },
  {
   "cell_type": "code",
   "execution_count": 91,
   "metadata": {
    "collapsed": false
   },
   "outputs": [
    {
     "name": "stdout",
     "output_type": "stream",
     "text": [
      "184220\n"
     ]
    },
    {
     "data": {
      "image/png": "[encoded data removed]",
      "text/plain": [
       "<Figure size 432x288 with 1 Axes>"
      ]
     },
     "metadata": {},
     "output_type": "display_data"
    }
   ],
   "source": [
    "plt.scatter(mis_exp, mis_obs)\n",
    "print len(mis_exp)\n",
    "plt.show()"
   ]
  },
  {
   "cell_type": "code",
   "execution_count": 139,
   "metadata": {
    "collapsed": false
   },
   "outputs": [
    {
     "name": "stdout",
     "output_type": "stream",
     "text": [
      "1.89012288147\n"
     ]
    },
    {
     "data": {
      "image/png": "[encoded data removed]",
      "text/plain": [
       "<Figure size 600x400 with 1 Axes>"
      ]
     },
     "metadata": {},
     "output_type": "display_data"
    }
   ],
   "source": [
    "ucz = [Zscore(obs,exp) for obs, exp in zip(mis_obs,mis_exp)]\n",
    "halfZ = [x for x in ucz if (x < 0 and x>-5.44)]\n",
    "tmp = halfZ[:]\n",
    "halfZ.extend([x*-1 for x in tmp])\n",
    "std = np.std(halfZ)\n",
    "ref = [x/std for x in halfZ]\n",
    "print std\n",
    "cz = [x/std for x in ucz]\n",
    "fig, ax = plt.subplots(dpi=100)\n",
    "plt.hist(ucz, 1000, color=\"blue\", alpha=0.2, normed=1, label = \"orignial\")\n",
    "plt.hist(cz, 1000, color=\"red\", normed=1, label = \"corrected\")\n",
    "plt.hist(ref, 1000, color=\"green\", alpha = 0.3, normed=1, label = \"reference\")\n",
    "plt.xlim(-10, 10)\n",
    "plt.grid(True)\n",
    "plt.legend()\n",
    "plt.show()"
   ]
  },
  {
   "cell_type": "code",
   "execution_count": 130,
   "metadata": {
    "collapsed": false
   },
   "outputs": [
    {
     "data": {
      "text/plain": [
       "5.4282922592552386e-08"
      ]
     },
     "execution_count": 130,
     "metadata": {},
     "output_type": "execute_result"
    }
   ],
   "source": [
    "0.01/184220"
   ]
  },
  {
   "cell_type": "code",
   "execution_count": 131,
   "metadata": {
    "collapsed": false
   },
   "outputs": [
    {
     "data": {
      "text/plain": [
       "5.415357955160836e-07"
      ]
     },
     "execution_count": 131,
     "metadata": {},
     "output_type": "execute_result"
    }
   ],
   "source": [
    "0.01 / 18466"
   ]
  },
  {
   "cell_type": "code",
   "execution_count": 132,
   "metadata": {
    "collapsed": false
   },
   "outputs": [
    {
     "data": {
      "text/plain": [
       "0.50000002165575297"
      ]
     },
     "execution_count": 132,
     "metadata": {},
     "output_type": "execute_result"
    }
   ],
   "source": [
    "scipy.stats.norm(0, 1).cdf(5.4282922592552386e-08)"
   ]
  },
  {
   "cell_type": "code",
   "execution_count": 136,
   "metadata": {
    "collapsed": false
   },
   "outputs": [
    {
     "name": "stdout",
     "output_type": "stream",
     "text": [
      "5.32805712199e-08\n"
     ]
    }
   ],
   "source": [
    "p_values = scipy.stats.norm.sf(5.44) * 2\n",
    "print p_values"
   ]
  },
  {
   "cell_type": "code",
   "execution_count": 134,
   "metadata": {
    "collapsed": false
   },
   "outputs": [
    {
     "data": {
      "text/plain": [
       "0.841344746069"
      ]
     },
     "execution_count": 134,
     "metadata": {},
     "output_type": "execute_result"
    }
   ],
   "source": [
    "1 - 0.158655253931"
   ]
  },
  {
   "cell_type": "code",
   "execution_count": 140,
   "metadata": {
    "collapsed": true
   },
   "outputs": [],
   "source": [
    "ExonTab[\"mis_z\"] = cz"
   ]
  },
  {
   "cell_type": "code",
   "execution_count": 141,
   "metadata": {
    "collapsed": false
   },
   "outputs": [
    {
     "data": {
      "text/html": [
       "<div>\n",
       "<style>\n",
       "    .dataframe thead tr:only-child th {\n",
       "        text-align: right;\n",
       "    }\n",
       "\n",
       "    .dataframe thead th {\n",
       "        text-align: left;\n",
       "    }\n",
       "\n",
       "    .dataframe tbody tr th {\n",
       "        vertical-align: top;\n",
       "    }\n",
       "</style>\n",
       "<table border=\"1\" class=\"dataframe\">\n",
       "  <thead>\n",
       "    <tr style=\"text-align: right;\">\n",
       "      <th></th>\n",
       "      <th>chr</th>\n",
       "      <th>start</th>\n",
       "      <th>end</th>\n",
       "      <th>Trans</th>\n",
       "      <th>0</th>\n",
       "      <th>srand</th>\n",
       "      <th>gene</th>\n",
       "      <th>DoC</th>\n",
       "      <th>syn_obs</th>\n",
       "      <th>mis_obs</th>\n",
       "      <th>mis_mu</th>\n",
       "      <th>mis_exp</th>\n",
       "      <th>mis_z</th>\n",
       "    </tr>\n",
       "  </thead>\n",
       "  <tbody>\n",
       "    <tr>\n",
       "      <th>0</th>\n",
       "      <td>chr1</td>\n",
       "      <td>67000041</td>\n",
       "      <td>67000051</td>\n",
       "      <td>ENST00000371037.4_cds_0_0_chr1_67000042_f</td>\n",
       "      <td>0</td>\n",
       "      <td>+</td>\n",
       "      <td>SGIP1</td>\n",
       "      <td>65.000000</td>\n",
       "      <td>0</td>\n",
       "      <td>0</td>\n",
       "      <td>1.037008e-07</td>\n",
       "      <td>6.892021</td>\n",
       "      <td>1.388939</td>\n",
       "    </tr>\n",
       "    <tr>\n",
       "      <th>1</th>\n",
       "      <td>chr1</td>\n",
       "      <td>67091529</td>\n",
       "      <td>67091593</td>\n",
       "      <td>ENST00000371037.4_cds_1_0_chr1_67091530_f</td>\n",
       "      <td>0</td>\n",
       "      <td>+</td>\n",
       "      <td>SGIP1</td>\n",
       "      <td>54.000000</td>\n",
       "      <td>6</td>\n",
       "      <td>7</td>\n",
       "      <td>1.004450e-06</td>\n",
       "      <td>15.413992</td>\n",
       "      <td>1.133847</td>\n",
       "    </tr>\n",
       "    <tr>\n",
       "      <th>2</th>\n",
       "      <td>chr1</td>\n",
       "      <td>67098752</td>\n",
       "      <td>67098777</td>\n",
       "      <td>ENST00000371037.4_cds_2_0_chr1_67098753_f</td>\n",
       "      <td>0</td>\n",
       "      <td>+</td>\n",
       "      <td>SGIP1</td>\n",
       "      <td>72.000000</td>\n",
       "      <td>1</td>\n",
       "      <td>2</td>\n",
       "      <td>1.727506e-07</td>\n",
       "      <td>7.545300</td>\n",
       "      <td>1.068063</td>\n",
       "    </tr>\n",
       "    <tr>\n",
       "      <th>3</th>\n",
       "      <td>chr1</td>\n",
       "      <td>67101626</td>\n",
       "      <td>67101698</td>\n",
       "      <td>ENST00000371037.4_cds_3_0_chr1_67101627_f</td>\n",
       "      <td>0</td>\n",
       "      <td>+</td>\n",
       "      <td>SGIP1</td>\n",
       "      <td>64.597222</td>\n",
       "      <td>0</td>\n",
       "      <td>0</td>\n",
       "      <td>9.691778e-07</td>\n",
       "      <td>15.080285</td>\n",
       "      <td>2.054541</td>\n",
       "    </tr>\n",
       "    <tr>\n",
       "      <th>4</th>\n",
       "      <td>chr1</td>\n",
       "      <td>67105459</td>\n",
       "      <td>67105516</td>\n",
       "      <td>ENST00000371037.4_cds_4_0_chr1_67105460_f</td>\n",
       "      <td>0</td>\n",
       "      <td>+</td>\n",
       "      <td>SGIP1</td>\n",
       "      <td>59.000000</td>\n",
       "      <td>4</td>\n",
       "      <td>11</td>\n",
       "      <td>4.808742e-07</td>\n",
       "      <td>10.460452</td>\n",
       "      <td>-0.088260</td>\n",
       "    </tr>\n",
       "  </tbody>\n",
       "</table>\n",
       "</div>"
      ],
      "text/plain": [
       "    chr     start       end                                      Trans  0  \\\n",
       "0  chr1  67000041  67000051  ENST00000371037.4_cds_0_0_chr1_67000042_f  0   \n",
       "1  chr1  67091529  67091593  ENST00000371037.4_cds_1_0_chr1_67091530_f  0   \n",
       "2  chr1  67098752  67098777  ENST00000371037.4_cds_2_0_chr1_67098753_f  0   \n",
       "3  chr1  67101626  67101698  ENST00000371037.4_cds_3_0_chr1_67101627_f  0   \n",
       "4  chr1  67105459  67105516  ENST00000371037.4_cds_4_0_chr1_67105460_f  0   \n",
       "\n",
       "  srand   gene        DoC  syn_obs  mis_obs        mis_mu    mis_exp     mis_z  \n",
       "0     +  SGIP1  65.000000        0        0  1.037008e-07   6.892021  1.388939  \n",
       "1     +  SGIP1  54.000000        6        7  1.004450e-06  15.413992  1.133847  \n",
       "2     +  SGIP1  72.000000        1        2  1.727506e-07   7.545300  1.068063  \n",
       "3     +  SGIP1  64.597222        0        0  9.691778e-07  15.080285  2.054541  \n",
       "4     +  SGIP1  59.000000        4       11  4.808742e-07  10.460452 -0.088260  "
      ]
     },
     "execution_count": 141,
     "metadata": {},
     "output_type": "execute_result"
    }
   ],
   "source": [
    "ExonTab.head(5)"
   ]
  },
  {
   "cell_type": "code",
   "execution_count": 142,
   "metadata": {
    "collapsed": true
   },
   "outputs": [],
   "source": [
    "ExonTab.to_csv(\"ExonTablewithMisZ.csv\", index=\"False\")"
   ]
  },
  {
   "cell_type": "code",
   "execution_count": 146,
   "metadata": {
    "collapsed": false
   },
   "outputs": [
    {
     "name": "stderr",
     "output_type": "stream",
     "text": [
      "/Users/jiayao/anaconda2/lib/python2.7/site-packages/IPython/core/interactiveshell.py:2717: DtypeWarning: Columns (1,18,19,21,22,27,28,41,42,44,45,50,51,54,55,56,57,58,59,60,63,64,65,66,67,68,69,70,71,72,73,74,75,76,77,78,79,80,81) have mixed types. Specify dtype option on import or set low_memory=False.\n",
      "  interactivity=interactivity, compiler=compiler, result=result)\n",
      "/Users/jiayao/anaconda2/lib/python2.7/site-packages/IPython/core/interactiveshell.py:2717: DtypeWarning: Columns (1,6,7,8,9,10,11,12,13,14,15,16,18,19,21,22,27,28,30,31,33,34,36,37,39,40,41,42,44,45,50,51,54,55,56,57,58,59,60,63,64,65,66,67,68,69,70,71,72,73,74,75,76,77,78,79,80,81) have mixed types. Specify dtype option on import or set low_memory=False.\n",
      "  interactivity=interactivity, compiler=compiler, result=result)\n"
     ]
    },
    {
     "data": {
      "text/html": [
       "<div>\n",
       "<style>\n",
       "    .dataframe thead tr:only-child th {\n",
       "        text-align: right;\n",
       "    }\n",
       "\n",
       "    .dataframe thead th {\n",
       "        text-align: left;\n",
       "    }\n",
       "\n",
       "    .dataframe tbody tr th {\n",
       "        vertical-align: top;\n",
       "    }\n",
       "</style>\n",
       "<table border=\"1\" class=\"dataframe\">\n",
       "  <thead>\n",
       "    <tr style=\"text-align: right;\">\n",
       "      <th></th>\n",
       "      <th>MisZ</th>\n",
       "      <th>Chr</th>\n",
       "      <th>Start</th>\n",
       "      <th>End</th>\n",
       "      <th>Ref</th>\n",
       "      <th>Alt</th>\n",
       "      <th>gnomAD_exome_ALL</th>\n",
       "      <th>gnomAD_exome_AFR</th>\n",
       "      <th>gnomAD_exome_AMR</th>\n",
       "      <th>gnomAD_exome_ASJ</th>\n",
       "      <th>...</th>\n",
       "      <th>phyloP20way_mammalian_rankscore</th>\n",
       "      <th>phastCons100way_vertebrate</th>\n",
       "      <th>phastCons100way_vertebrate_rankscore</th>\n",
       "      <th>phastCons20way_mammalian</th>\n",
       "      <th>phastCons20way_mammalian_rankscore</th>\n",
       "      <th>SiPhy_29way_logOdds</th>\n",
       "      <th>SiPhy_29way_logOdds_rankscore</th>\n",
       "      <th>Interpro_domain</th>\n",
       "      <th>GTEx_V6p_gene</th>\n",
       "      <th>GTEx_V6p_tissue</th>\n",
       "    </tr>\n",
       "  </thead>\n",
       "  <tbody>\n",
       "    <tr>\n",
       "      <th>0</th>\n",
       "      <td>-0.310697</td>\n",
       "      <td>1</td>\n",
       "      <td>1289293</td>\n",
       "      <td>1289293</td>\n",
       "      <td>A</td>\n",
       "      <td>T</td>\n",
       "      <td>.</td>\n",
       "      <td>.</td>\n",
       "      <td>.</td>\n",
       "      <td>.</td>\n",
       "      <td>...</td>\n",
       "      <td>0.866</td>\n",
       "      <td>1.000</td>\n",
       "      <td>0.715</td>\n",
       "      <td>0.997</td>\n",
       "      <td>0.653</td>\n",
       "      <td>12.135</td>\n",
       "      <td>0.531</td>\n",
       "      <td>.</td>\n",
       "      <td>.</td>\n",
       "      <td>.</td>\n",
       "    </tr>\n",
       "    <tr>\n",
       "      <th>1</th>\n",
       "      <td>2.135774</td>\n",
       "      <td>1</td>\n",
       "      <td>1464679</td>\n",
       "      <td>1464679</td>\n",
       "      <td>C</td>\n",
       "      <td>T</td>\n",
       "      <td>.</td>\n",
       "      <td>.</td>\n",
       "      <td>.</td>\n",
       "      <td>.</td>\n",
       "      <td>...</td>\n",
       "      <td>0.046</td>\n",
       "      <td>0.501</td>\n",
       "      <td>0.267</td>\n",
       "      <td>0.087</td>\n",
       "      <td>0.184</td>\n",
       "      <td>12.066</td>\n",
       "      <td>0.527</td>\n",
       "      <td>AAA+ ATPase domain|ATPase\\x2c AAA-type\\x2c cor...</td>\n",
       "      <td>.</td>\n",
       "      <td>.</td>\n",
       "    </tr>\n",
       "    <tr>\n",
       "      <th>2</th>\n",
       "      <td>2.260545</td>\n",
       "      <td>1</td>\n",
       "      <td>1735900</td>\n",
       "      <td>1735900</td>\n",
       "      <td>C</td>\n",
       "      <td>T</td>\n",
       "      <td>.</td>\n",
       "      <td>.</td>\n",
       "      <td>.</td>\n",
       "      <td>.</td>\n",
       "      <td>...</td>\n",
       "      <td>0.490</td>\n",
       "      <td>1.000</td>\n",
       "      <td>0.715</td>\n",
       "      <td>0.985</td>\n",
       "      <td>0.512</td>\n",
       "      <td>18.444</td>\n",
       "      <td>0.906</td>\n",
       "      <td>WD40-repeat-containing domain;WD40-repeat-cont...</td>\n",
       "      <td>.</td>\n",
       "      <td>.</td>\n",
       "    </tr>\n",
       "    <tr>\n",
       "      <th>3</th>\n",
       "      <td>2.260545</td>\n",
       "      <td>1</td>\n",
       "      <td>1735935</td>\n",
       "      <td>1735935</td>\n",
       "      <td>T</td>\n",
       "      <td>C</td>\n",
       "      <td>.</td>\n",
       "      <td>.</td>\n",
       "      <td>.</td>\n",
       "      <td>.</td>\n",
       "      <td>...</td>\n",
       "      <td>0.766</td>\n",
       "      <td>1.000</td>\n",
       "      <td>0.715</td>\n",
       "      <td>1.000</td>\n",
       "      <td>0.888</td>\n",
       "      <td>14.571</td>\n",
       "      <td>0.677</td>\n",
       "      <td>G-protein\\x2c beta subunit|WD40-repeat-contain...</td>\n",
       "      <td>.</td>\n",
       "      <td>.</td>\n",
       "    </tr>\n",
       "    <tr>\n",
       "      <th>4</th>\n",
       "      <td>2.260545</td>\n",
       "      <td>1</td>\n",
       "      <td>1735987</td>\n",
       "      <td>1735987</td>\n",
       "      <td>T</td>\n",
       "      <td>C</td>\n",
       "      <td>.</td>\n",
       "      <td>.</td>\n",
       "      <td>.</td>\n",
       "      <td>.</td>\n",
       "      <td>...</td>\n",
       "      <td>0.766</td>\n",
       "      <td>1.000</td>\n",
       "      <td>0.715</td>\n",
       "      <td>1.000</td>\n",
       "      <td>0.888</td>\n",
       "      <td>14.812</td>\n",
       "      <td>0.695</td>\n",
       "      <td>G-protein\\x2c beta subunit|WD40-repeat-contain...</td>\n",
       "      <td>.</td>\n",
       "      <td>.</td>\n",
       "    </tr>\n",
       "  </tbody>\n",
       "</table>\n",
       "<p>5 rows × 85 columns</p>\n",
       "</div>"
      ],
      "text/plain": [
       "       MisZ Chr    Start      End Ref Alt gnomAD_exome_ALL gnomAD_exome_AFR  \\\n",
       "0 -0.310697   1  1289293  1289293   A   T                .                .   \n",
       "1  2.135774   1  1464679  1464679   C   T                .                .   \n",
       "2  2.260545   1  1735900  1735900   C   T                .                .   \n",
       "3  2.260545   1  1735935  1735935   T   C                .                .   \n",
       "4  2.260545   1  1735987  1735987   T   C                .                .   \n",
       "\n",
       "  gnomAD_exome_AMR gnomAD_exome_ASJ       ...        \\\n",
       "0                .                .       ...         \n",
       "1                .                .       ...         \n",
       "2                .                .       ...         \n",
       "3                .                .       ...         \n",
       "4                .                .       ...         \n",
       "\n",
       "  phyloP20way_mammalian_rankscore phastCons100way_vertebrate  \\\n",
       "0                           0.866                      1.000   \n",
       "1                           0.046                      0.501   \n",
       "2                           0.490                      1.000   \n",
       "3                           0.766                      1.000   \n",
       "4                           0.766                      1.000   \n",
       "\n",
       "  phastCons100way_vertebrate_rankscore phastCons20way_mammalian  \\\n",
       "0                                0.715                    0.997   \n",
       "1                                0.267                    0.087   \n",
       "2                                0.715                    0.985   \n",
       "3                                0.715                    1.000   \n",
       "4                                0.715                    1.000   \n",
       "\n",
       "  phastCons20way_mammalian_rankscore SiPhy_29way_logOdds  \\\n",
       "0                              0.653              12.135   \n",
       "1                              0.184              12.066   \n",
       "2                              0.512              18.444   \n",
       "3                              0.888              14.571   \n",
       "4                              0.888              14.812   \n",
       "\n",
       "  SiPhy_29way_logOdds_rankscore  \\\n",
       "0                         0.531   \n",
       "1                         0.527   \n",
       "2                         0.906   \n",
       "3                         0.677   \n",
       "4                         0.695   \n",
       "\n",
       "                                     Interpro_domain GTEx_V6p_gene  \\\n",
       "0                                                  .             .   \n",
       "1  AAA+ ATPase domain|ATPase\\x2c AAA-type\\x2c cor...             .   \n",
       "2  WD40-repeat-containing domain;WD40-repeat-cont...             .   \n",
       "3  G-protein\\x2c beta subunit|WD40-repeat-contain...             .   \n",
       "4  G-protein\\x2c beta subunit|WD40-repeat-contain...             .   \n",
       "\n",
       "  GTEx_V6p_tissue  \n",
       "0               .  \n",
       "1               .  \n",
       "2               .  \n",
       "3               .  \n",
       "4               .  \n",
       "\n",
       "[5 rows x 85 columns]"
      ]
     },
     "execution_count": 146,
     "metadata": {},
     "output_type": "execute_result"
    }
   ],
   "source": [
    "path = pd.read_csv(\"pathogenic.misz.tsv\", delimiter=\"\\t\")\n",
    "ben = pd.read_csv(\"benign.misz.tsv\", delimiter=\"\\t\")\n",
    "path.head()"
   ]
  },
  {
   "cell_type": "code",
   "execution_count": 147,
   "metadata": {
    "collapsed": false
   },
   "outputs": [],
   "source": [
    "miszP = path[\"MisZ\"].values\n",
    "miszB = ben[\"MisZ\"].values"
   ]
  },
  {
   "cell_type": "code",
   "execution_count": 155,
   "metadata": {
    "collapsed": false
   },
   "outputs": [
    {
     "data": {
      "image/png": "[encoded data removed]",
      "text/plain": [
       "<Figure size 600x400 with 1 Axes>"
      ]
     },
     "metadata": {},
     "output_type": "display_data"
    }
   ],
   "source": [
    "fig, ax = plt.subplots(dpi=100)\n",
    "plt.hist(miszP, 100, color=\"red\", normed=1, label=\"pathogenic\")\n",
    "plt.hist(miszB, 1000, color=\"blue\", normed=1, alpha=0.1, label=\"benign\")\n",
    "plt.xlim(-10, 10)\n",
    "plt.grid(True)\n",
    "plt.legend()\n",
    "plt.show()"
   ]
  },
  {
   "cell_type": "code",
   "execution_count": 156,
   "metadata": {
    "collapsed": false
   },
   "outputs": [
    {
     "data": {
      "text/plain": [
       "2357.52"
      ]
     },
     "execution_count": 156,
     "metadata": {},
     "output_type": "execute_result"
    }
   ],
   "source": [
    "2508 * 0.94"
   ]
  },
  {
   "cell_type": "code",
   "execution_count": 157,
   "metadata": {
    "collapsed": false
   },
   "outputs": [
    {
     "data": {
      "text/plain": [
       "1567.02"
      ]
     },
     "execution_count": 157,
     "metadata": {},
     "output_type": "execute_result"
    }
   ],
   "source": [
    "1911 * 0.82"
   ]
  },
  {
   "cell_type": "code",
   "execution_count": null,
   "metadata": {
    "collapsed": true
   },
   "outputs": [],
   "source": []
  }
 ],
 "metadata": {
  "kernelspec": {
   "display_name": "Python 2",
   "language": "python",
   "name": "python2"
  },
  "language_info": {
   "codemirror_mode": {
    "name": "ipython",
    "version": 2
   },
   "file_extension": ".py",
   "mimetype": "text/x-python",
   "name": "python",
   "nbconvert_exporter": "python",
   "pygments_lexer": "ipython2",
   "version": "2.7.13"
  }
 },
 "nbformat": 4,
 "nbformat_minor": 2
}
