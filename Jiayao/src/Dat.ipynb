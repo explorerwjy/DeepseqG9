{
 "cells": [
  {
   "cell_type": "code",
   "execution_count": 86,
   "metadata": {
    "collapsed": false
   },
   "outputs": [
    {
     "name": "stdout",
     "output_type": "stream",
     "text": [
      "The autoreload extension is already loaded. To reload it, use:\n",
      "  %reload_ext autoreload\n"
     ]
    }
   ],
   "source": [
    "%load_ext autoreload\n",
    "%autoreload 2\n",
    "from DeepSeqG9 import *"
   ]
  },
  {
   "cell_type": "code",
   "execution_count": null,
   "metadata": {
    "collapsed": true
   },
   "outputs": [],
   "source": [
    "hgmd = \"/Users/jiayao/Work/DeepSeq/dat/hgmd/hgmd.std.csv\"\n",
    "cancer = \"/Users/jiayao/Work/DeepSeq/dat/hotspot/cancer_hotspot.std.csv\"\n",
    "clinvar = \"/Users/jiayao/Work/DeepSeq/dat/clinvar/clinvar.std.csv\"\n",
    "pr_coding_genes = \"/Users/jiayao/Work/Resources/protein-coding_gene.txt\""
   ]
  },
  {
   "cell_type": "code",
   "execution_count": null,
   "metadata": {
    "collapsed": false
   },
   "outputs": [],
   "source": [
    "ins.mergeTable(pr_coding_genes,  hgmd, clinvar, cancer)"
   ]
  },
  {
   "cell_type": "code",
   "execution_count": null,
   "metadata": {
    "collapsed": false
   },
   "outputs": [],
   "source": [
    "gnomad = \"\"\n",
    "ins.MakeBenighVars(gnomad, \"hgmd_clinvar_cancer_combined_pathogenic_variants.tsv\")"
   ]
  },
  {
   "cell_type": "code",
   "execution_count": null,
   "metadata": {
    "collapsed": false
   },
   "outputs": [],
   "source": [
    "df = pd.read_csv(hgmd, sep = \"\\t\")\n",
    "print df.columns.values"
   ]
  },
  {
   "cell_type": "code",
   "execution_count": null,
   "metadata": {
    "collapsed": false
   },
   "outputs": [],
   "source": [
    "dat = []\n",
    "genes = []\n",
    "for k,v in res.items():\n",
    "    #print k, len(v)\n",
    "    genes.append(k)\n",
    "    dat.append(len(v))\n",
    "genes.sort()"
   ]
  },
  {
   "cell_type": "code",
   "execution_count": null,
   "metadata": {
    "collapsed": false
   },
   "outputs": [],
   "source": [
    "mpl.pyplot.hist(dat, bins = 200)\n",
    "plt.xlim(0,200)\n",
    "plt.show()\n",
    "print len([x for x in dat if x >10])\n",
    "print len([x for x in dat if x >20])"
   ]
  },
  {
   "cell_type": "code",
   "execution_count": null,
   "metadata": {
    "collapsed": false
   },
   "outputs": [],
   "source": [
    "ins.mergeTable(pr_coding_genes, hgmd, clinvar, cancer)"
   ]
  },
  {
   "cell_type": "code",
   "execution_count": null,
   "metadata": {
    "collapsed": true
   },
   "outputs": [],
   "source": [
    "gnomad_file = \"/Users/jiayao/Work/DeepSeq/dat/gnomAD/test.vcf.gz\"\n",
    "gnomad_file = \"/Users/jiayao/Work/DeepSeq/dat/gnomAD/haha.vcf.gz\""
   ]
  },
  {
   "cell_type": "code",
   "execution_count": null,
   "metadata": {
    "collapsed": false
   },
   "outputs": [],
   "source": [
    "head = ['genename', 'assembly', 'chr', 'pos', 'ref', 'alt', 'ref_aa', 'alt_aa', 'swissprot_pos', 'ensp', 'swissprot', \n",
    "        'dbsnp', 'source', 'source_id', 'target', 'descr', 'var_id', 'swissprot_var_id', 'af']\n",
    "print zip(range(19), head)\n",
    "\n",
    "CSQ_FMT = 'Allele|Consequence|IMPACT|SYMBOL|Gene|Feature_type|Feature|BIOTYPE|EXON|INTRON|HGVSc|HGVSp|cDNA_position|CDS_position|Protein_position|Amino_acids|Codons|Existing_variation|ALLELE_NUM|DISTANCE|STRAND|FLAGS|VARIANT_CLASS|MINIMISED|SYMBOL_SOURCE|HGNC_ID|CANONICAL|TSL|APPRIS|CCDS|ENSP|SWISSPROT|TREMBL|UNIPARC|GENE_PHENO|SIFT|PolyPhen|DOMAINS|HGVS_OFFSET|GMAF|AFR_MAF|AMR_MAF|EAS_MAF|EUR_MAF|SAS_MAF|AA_MAF|EA_MAF|ExAC_MAF|ExAC_Adj_MAF|ExAC_AFR_MAF|ExAC_AMR_MAF|ExAC_EAS_MAF|ExAC_FIN_MAF|ExAC_NFE_MAF|ExAC_OTH_MAF|ExAC_SAS_MAF|CLIN_SIG|SOMATIC|PHENO|PUBMED|MOTIF_NAME|MOTIF_POS|HIGH_INF_POS|MOTIF_SCORE_CHANGE|LoF|LoF_filter|LoF_flags|LoF_info'\n",
    "CSQ_FMT = CSQ_FMT.split(\"|\")\n",
    "print CSQ_FMT\n",
    "def getINFO(info_string):\n",
    "    infolist = info_string.split(';')\n",
    "    infodict = {}\n",
    "    for kv in infolist:\n",
    "        kv = kv.split('=')\n",
    "        if len(kv) == 2:\n",
    "            k, v = kv\n",
    "            if k in infodict:\n",
    "                infodict[k].append(v) \n",
    "            else:\n",
    "                infodict[k] = [v]\n",
    "    return infodict\n",
    "def searchCANONICAL(CSQLIST):\n",
    "    for csq in CSQLIST:\n",
    "        csq = csq.split(\"|\")\n",
    "        CSQ = dict(zip(CSQ_FMT, csq))\n",
    "        if CSQ[\"CANONICAL\"] == \"YES\":\n",
    "            #return csq\n",
    "            return \"YES\"\n",
    "    return None\n",
    "def displayCSQ(head, _dict):\n",
    "    for item in head:\n",
    "        print \"{}:{}\\t\".format(item, _dict[item]),"
   ]
  },
  {
   "cell_type": "code",
   "execution_count": null,
   "metadata": {
    "collapsed": false
   },
   "outputs": [],
   "source": [
    "hand = gzip.open(gnomad_file, 'rb')\n",
    "outfil = csv.writer(open(\"benigh.tsv\", 'wb'), delimiter=\"\\t\")\n",
    "outfil.writerow(head)\n",
    "for l in hand:\n",
    "    if l.startswith(\"#\"):\n",
    "        continue\n",
    "    llist = l.strip().split(\"\\t\")\n",
    "    Chr, Pos, ID, ref, alt = llist[0:5]\n",
    "    if len(ref) != 1:\n",
    "        continue\n",
    "    INFO_string = llist[7]\n",
    "    info_dict = getINFO(INFO_string)\n",
    "    #print info_dict\n",
    "    #CSQ = searchCANONICAL(info_dict[\"CSQ\"])\n",
    "    CSQ = info_dict[\"CSQ\"][0].split(\"|\")\n",
    "    CSQ = dict(zip(CSQ_FMT, CSQ))\n",
    "    if CSQ[\"Consequence\"] != \"missense_variant\":\n",
    "        continue\n",
    "    AA = CSQ[\"Amino_acids\"].split(\"/\")\n",
    "    res = [\"\"]*19\n",
    "    res[0] = info_dict[\"Gene.refGene\"][0]\n",
    "    res[1] = 'b37'\n",
    "    res[2] = Chr\n",
    "    res[3] = Pos\n",
    "    res[4] = ref\n",
    "    res[5] = alt.split(\",\")[0]\n",
    "    res[6] = AA[0]\n",
    "    res[7] = AA[1]\n",
    "    res[8] = CSQ[\"Protein_position\"]\n",
    "    res[9] = CSQ[\"ENSP\"]\n",
    "    res[10] = CSQ[\"SWISSPROT\"]\n",
    "    res[11] = info_dict[\"avsnp147\"][0]\n",
    "    res[12] = \"gnomAD_exome\"\n",
    "    res[13] = \"-\"\n",
    "    res[14] = \"-\"\n",
    "    res[15] = \"-\"\n",
    "    res[16] = \"{}_{}_{}_{}\".format(Chr,Pos,ref,res[5])\n",
    "    res[17] = \"{}_{}_{}_{}\".format(res[10],res[8],res[6],res[7])\n",
    "    res[18] = info_dict[\"gnomAD_exome_ALL\"][0]\n",
    "    outfil.writerow(res)"
   ]
  },
  {
   "cell_type": "code",
   "execution_count": null,
   "metadata": {
    "collapsed": true
   },
   "outputs": [],
   "source": [
    "f1 = \"/Users/jiayao/Work/DeepSeq/src/benigh.tsv\"\n",
    "f2 = \"/Users/jiayao/Work/DeepSeq/src/hgmd_clinvar_cancer_combined_pathogenic_variants.tsv\""
   ]
  },
  {
   "cell_type": "code",
   "execution_count": null,
   "metadata": {
    "collapsed": false
   },
   "outputs": [],
   "source": [
    "reader1 = csv.reader(open(f2, 'rb'), delimiter=\"\\t\")\n",
    "header = reader1.next()\n",
    "pathvarset = []\n",
    "for row in reader1:\n",
    "    pathvarset.append(row[16])\n",
    "pathvarset = set(pathvarset)"
   ]
  },
  {
   "cell_type": "code",
   "execution_count": null,
   "metadata": {
    "collapsed": false
   },
   "outputs": [],
   "source": [
    "reader2 = csv.reader(open(f1, 'rb'), delimiter=\"\\t\")\n",
    "header = reader2.next()\n",
    "outfil = csv.writer(open(\"benigh.clean.tsv\", 'wb'), delimiter=\"\\t\")\n",
    "outfil.writerow(head)\n",
    "for row in reader2:\n",
    "    varid = row[16]\n",
    "    if varid in pathvarset:\n",
    "        continue\n",
    "    outfil.writerow(row)\n"
   ]
  },
  {
   "cell_type": "markdown",
   "metadata": {
    "collapsed": true
   },
   "source": [
    "# Count"
   ]
  },
  {
   "cell_type": "code",
   "execution_count": null,
   "metadata": {
    "collapsed": false
   },
   "outputs": [],
   "source": [
    "Gene2PDB = {}\n",
    "for l in open(\"UniProt_PDB_ID_List.txt\", 'rb'):\n",
    "    if l.startswith(\"Entry\"):\n",
    "        continue\n",
    "    llist = l.strip().split()\n",
    "    if len(llist) < 3: #No PDB file\n",
    "        continue\n",
    "    if not llist[2].endswith(\";\"):\n",
    "        continue\n",
    "    Uniprot = llist[0]\n",
    "    gene = llist[1]\n",
    "    pdb = llist[2].split(\";\")[0]\n",
    "    Gene2PDB[Uniprot] = pdb"
   ]
  },
  {
   "cell_type": "code",
   "execution_count": null,
   "metadata": {
    "collapsed": false
   },
   "outputs": [],
   "source": [
    "benigh = \"/Users/jiayao/Work/DeepSeq/src/benigh.clean.tsv\"\n",
    "patho = \"/Users/jiayao/Work/DeepSeq/src/hgmd_clinvar_cancer_combined_pathogenic_variants.tsv\""
   ]
  },
  {
   "cell_type": "code",
   "execution_count": null,
   "metadata": {
    "collapsed": false
   },
   "outputs": [],
   "source": [
    "class Gene:\n",
    "    def __init__(self, gene, uniprot):\n",
    "        self.uniprot = uniprot\n",
    "        self.gene = gene\n",
    "        self.Bmutations = []\n",
    "        self.Pmutations = []\n",
    "genedict = {}\n",
    "P = csv.reader(open(patho, 'rb'), delimiter=\"\\t\")\n",
    "P.next()\n",
    "for row in P:\n",
    "    uniprot, gene, mut = row[10], row[0], row[16]\n",
    "    if gene not in genedict:\n",
    "        genedict[gene] = Gene(gene, uniprot)\n",
    "    genedict[gene].Pmutations.append(mut)\n",
    "    \n",
    "B = csv.reader(open(benigh, 'rb'), delimiter=\"\\t\")\n",
    "B.next()\n",
    "for row in B:\n",
    "    uniprot, gene, mut = row[10], row[0], row[16]\n",
    "    if gene not in genedict:\n",
    "        genedict[gene] = Gene(gene, uniprot)\n",
    "    genedict[gene].Bmutations.append(mut)"
   ]
  },
  {
   "cell_type": "code",
   "execution_count": null,
   "metadata": {
    "collapsed": false
   },
   "outputs": [],
   "source": [
    "Bs, Ps = [], []\n",
    "Selected = []\n",
    "for K, gene in genedict.items():\n",
    "    Bs.append(len(gene.Bmutations))\n",
    "    Ps.append(len(gene.Pmutations))\n",
    "    if len(gene.Pmutations) > 43 and len(gene.Bmutations) > 43 and gene.uniprot in Gene2PDB:\n",
    "        Selected.append(gene)\n",
    "print len(Selected)"
   ]
  },
  {
   "cell_type": "code",
   "execution_count": null,
   "metadata": {
    "collapsed": false
   },
   "outputs": [],
   "source": [
    "bbs = [float(x)/10 for x in Bs]\n",
    "pps = [x for x in Ps]\n",
    "plt.scatter(bbs, pps)\n",
    "plt.show()"
   ]
  },
  {
   "cell_type": "code",
   "execution_count": null,
   "metadata": {
    "collapsed": false
   },
   "outputs": [],
   "source": [
    "plt.hist(Bs, bins=1000, color=\"blue\")\n",
    "plt.hist(Ps, bins=1000, color=\"red\")\n",
    "plt.xlim(0,200)\n",
    "plt.show()"
   ]
  },
  {
   "cell_type": "code",
   "execution_count": null,
   "metadata": {
    "collapsed": false
   },
   "outputs": [],
   "source": [
    "Bs, Ps = [], []\n",
    "for gene in Selected:\n",
    "    Bs.append(len(gene.Bmutations))\n",
    "    Ps.append(len(gene.Pmutations))"
   ]
  },
  {
   "cell_type": "code",
   "execution_count": null,
   "metadata": {
    "collapsed": false
   },
   "outputs": [],
   "source": [
    "plt.scatter([float(x)/10 for x in Bs], Ps)\n",
    "plt.show()"
   ]
  },
  {
   "cell_type": "code",
   "execution_count": null,
   "metadata": {
    "collapsed": false
   },
   "outputs": [],
   "source": [
    "fout = open(\"selected.genes.txt\", 'wb')\n",
    "geneset = []\n",
    "for gene in Selected:\n",
    "    geneset.append(gene.gene) \n",
    "    fout.write(gene.gene+\"\\n\")\n",
    "geneset = set(geneset)\n",
    "print len(geneset)"
   ]
  },
  {
   "cell_type": "code",
   "execution_count": null,
   "metadata": {
    "collapsed": false
   },
   "outputs": [],
   "source": [
    "SP = csv.writer(open(\"Pathogenic.selected.tsv\", 'wb'), delimiter=\"\\t\")\n",
    "SB = csv.writer(open(\"Benigh.selected.tsv\", 'wb'), delimiter=\"\\t\")\n",
    "\n",
    "\n",
    "P = csv.reader(open(patho, 'rb'), delimiter=\"\\t\")\n",
    "SP.writerow(P.next())\n",
    "for row in P:\n",
    "    gene, mut = row[0], row[16]\n",
    "    if gene in geneset:\n",
    "        SP.writerow(row)\n",
    "    \n",
    "B = csv.reader(open(benigh, 'rb'), delimiter=\"\\t\")\n",
    "SB.writerow(B.next())\n",
    "for row in B:\n",
    "    gene, mut = row[0], row[16]\n",
    "    if gene in geneset:\n",
    "        SB.writerow(row)"
   ]
  },
  {
   "cell_type": "code",
   "execution_count": null,
   "metadata": {
    "collapsed": true
   },
   "outputs": [],
   "source": [
    "def AnnotatePDBFname(inpF, outF):\n",
    "    Fin = csv.reader(open(inpF, 'rb'), delimiter=\"\\t\")\n",
    "    Fout = csv.writer(open(outF, 'wb'), delimiter=\"\\t\")\n",
    "    Fout.writerow([\"PDB.Fil\"] + Fin.next())\n",
    "    for row in Fin:\n",
    "        uniprot, gene, mut = row[10], row[0], row[16]\n",
    "        if uniprot not in Gene2PDB:\n",
    "            PDB = \"-\"\n",
    "        else:\n",
    "            PDB = Gene2PDB[uniprot]\n",
    "        Fout.writerow([PDB]+row)"
   ]
  },
  {
   "cell_type": "code",
   "execution_count": null,
   "metadata": {
    "collapsed": false
   },
   "outputs": [],
   "source": [
    "AnnotatePDBFname(\"Pathogenic.selected.tsv\", \"Pathogenic.selected.PDB.tsv\")"
   ]
  },
  {
   "cell_type": "code",
   "execution_count": null,
   "metadata": {
    "collapsed": false
   },
   "outputs": [],
   "source": [
    "AnnotatePDBFname(\"Benigh.selected.tsv\", \"Benigh.selected.PDB.tsv\")"
   ]
  },
  {
   "cell_type": "markdown",
   "metadata": {},
   "source": [
    "# Select PDB file"
   ]
  },
  {
   "cell_type": "code",
   "execution_count": null,
   "metadata": {
    "collapsed": true
   },
   "outputs": [],
   "source": []
  },
  {
   "cell_type": "code",
   "execution_count": 99,
   "metadata": {
    "collapsed": false,
    "scrolled": false
   },
   "outputs": [
    {
     "name": "stdout",
     "output_type": "stream",
     "text": [
      "P60709 3byh.A\n",
      "C0Z268 3byh.B\n",
      "G2SES0 5efr.A\n",
      "G2SI47 5efr.A\n",
      "P02185 101m.A\n",
      "P17900 1g13.A\n",
      "P38398 1jm7.A\n",
      "Q12756 4egx.A\n",
      "W5ZZF5 5w9h.A\n",
      "P60709\t3byh.A\t3\t375\n",
      "C0Z268\t3byh.B\t389\t579\n",
      "G2SES0\t5efr.A\t523\t686\n",
      "P38398\t1jm7.A\t2\t103\n",
      "Q12756\t4egx.B\t430\t605\n",
      "Q12756\t4uxs.C\t5\t356\n",
      "W5ZZF5\t5w9p.I\t18\t743\n",
      "W5ZZF5\t5w9p.J\t753\t1223\n"
     ]
    },
    {
     "name": "stderr",
     "output_type": "stream",
     "text": [
      "G2SI47\n"
     ]
    }
   ],
   "source": [
    "MapFilHead = [\"PDB\", \"Chain\", \"PDB sequential residue number\", \"PDB_AA\", \"PDB_Coord\", \"Uniprot\", \"Uni_AA\", \"Uni_Coord\"]\n",
    "PDB2Uniprot = \"../dat/test.map\"\n",
    "ins.ProcessPDB2Uniprot(PDB2Uniprot)"
   ]
  },
  {
   "cell_type": "code",
   "execution_count": 101,
   "metadata": {
    "collapsed": false
   },
   "outputs": [],
   "source": [
    "Uni2PDBFil = \"Uni2PDB.res.map\"\n",
    "ResMapFil = \"../dat/PDB2SWISS.sort.tsv\"\n",
    "reader = csv.reader(open(Uni2PDBFil, 'rb'), delimiter=\"\\t\")\n",
    "keeps = []\n",
    "for row in reader:\n",
    "    Uni = row[0]\n",
    "    pdb, chain = row[1].split(\".\")\n",
    "    ID = \".\".join([Uni,pdb,chain])\n",
    "    keeps.append(ID)\n",
    "keeps = set(keeps)\n",
    "reader = csv.reader(open(ResMapFil, 'rb'), delimiter=\"\\t\")\n",
    "writer = csv.writer(open(\"../dat/PDB2SWISS.select.tsv\", 'wb'), delimiter=\"\\t\")\n",
    "for row in reader:\n",
    "    ID = \".\".join([row[5], row[0], row[1]])\n",
    "    if ID in keeps:\n",
    "        writer.writerow(row)\n"
   ]
  },
  {
   "cell_type": "code",
   "execution_count": 102,
   "metadata": {
    "collapsed": false
   },
   "outputs": [
    {
     "data": {
      "text/plain": [
       "0.42175"
      ]
     },
     "execution_count": 102,
     "metadata": {},
     "output_type": "execute_result"
    }
   ],
   "source": [
    "0.8435/2"
   ]
  },
  {
   "cell_type": "code",
   "execution_count": 104,
   "metadata": {
    "collapsed": false
   },
   "outputs": [
    {
     "data": {
      "text/plain": [
       "0.8999999999999999"
      ]
     },
     "execution_count": 104,
     "metadata": {},
     "output_type": "execute_result"
    }
   ],
   "source": [
    "5 * 0.18"
   ]
  },
  {
   "cell_type": "code",
   "execution_count": null,
   "metadata": {
    "collapsed": true
   },
   "outputs": [],
   "source": []
  }
 ],
 "metadata": {
  "kernelspec": {
   "display_name": "Python 2",
   "language": "python",
   "name": "python2"
  },
  "language_info": {
   "codemirror_mode": {
    "name": "ipython",
    "version": 2
   },
   "file_extension": ".py",
   "mimetype": "text/x-python",
   "name": "python",
   "nbconvert_exporter": "python",
   "pygments_lexer": "ipython2",
   "version": "2.7.13"
  }
 },
 "nbformat": 4,
 "nbformat_minor": 2
}
